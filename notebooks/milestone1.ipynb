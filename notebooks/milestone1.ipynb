{
 "cells": [
  {
   "cell_type": "markdown",
   "id": "93df8bf1-d594-4662-be78-e235b747272b",
   "metadata": {},
   "source": [
    "## Imports"
   ]
  },
  {
   "cell_type": "code",
   "execution_count": 1,
   "id": "bceb9bf2-a32e-46c8-8bac-87d5063b85c8",
   "metadata": {},
   "outputs": [],
   "source": [
    "import requests\n",
    "import os\n",
    "import json\n",
    "\n",
    "from urllib.request import urlopen\n",
    "from zipfile import ZipFile\n",
    "from urllib.request import urlretrieve\n",
    "\n",
    "from os import listdir\n",
    "from os.path import isfile, join\n",
    "\n",
    "import pandas as pd\n",
    "import glob\n",
    "import matplotlib.pyplot as plt"
   ]
  },
  {
   "cell_type": "markdown",
   "id": "00c13798-631b-46ea-9d9f-a2c84b93428c",
   "metadata": {},
   "source": [
    "## Download and Unzip Data"
   ]
  },
  {
   "cell_type": "markdown",
   "id": "840eab4e-62dd-484b-86bd-7250746acdf7",
   "metadata": {},
   "source": [
    "We have both MAC and Windows user in our group. The data loading code for MAC does not work on Windows. In the cells below, we have downloading data code for MAC. The commented code for downloading data is used by Windows system."
   ]
  },
  {
   "cell_type": "code",
   "execution_count": 2,
   "id": "7a177d91-6a47-4578-a226-0a72b0d6087a",
   "metadata": {},
   "outputs": [],
   "source": [
    "def unzip(url, out_folder):\n",
    "    try:\n",
    "        tempzip = open(\"/tmp/tempfile.zip\", \"wb\")\n",
    "        tempzip.write(urlopen(url).read())\n",
    "        tempzip.close()\n",
    "        zf = ZipFile(\"/tmp/tempfile.zip\")\n",
    "        zf.extractall(path=out_folder)\n",
    "        zf.close()\n",
    "        print(f\"Unzipped data to: {os.getcwd()}/{out_folder}\")\n",
    "    except Exception as req:\n",
    "        raise UnzipFileError(req)\n",
    "\n",
    "def get_data(url, out_folder):\n",
    "    try:\n",
    "        request = requests.get(url)\n",
    "        if request.status_code == 200:\n",
    "            if not os.path.exists(os.getcwd() + \"/\" + out_folder):\n",
    "                os.makedirs(out_folder + \"/\")\n",
    "        \n",
    "    except Exception as req:\n",
    "        print(\"Invalid URL provided.\")\n",
    "        print(req)\n",
    "\n",
    "    return unzip(url, out_folder)"
   ]
  },
  {
   "cell_type": "code",
   "execution_count": 3,
   "id": "f4c868d5-e2d4-4569-a966-520db07283dd",
   "metadata": {},
   "outputs": [],
   "source": [
    "if not os.path.exists(os.getcwd() + \"/data/raw/__MACOSX\"):\n",
    "    pass\n",
    "\n",
    "else:\n",
    "    files = glob.glob(os.getcwd() + \"/data/raw/__MACOSX/*\")\n",
    "    for f in files:\n",
    "        os.remove(f)\n",
    "    os.rmdir(os.getcwd() + \"/data/raw/__MACOSX\")\n",
    "\n",
    "if len(os.listdir(os.getcwd() + \"/data/raw\")) > 0:\n",
    "    files = glob.glob(os.getcwd() + \"/data/raw/*\")\n",
    "    for f in files:\n",
    "        os.remove(f)\n",
    "else:\n",
    "    pass"
   ]
  },
  {
   "cell_type": "code",
   "execution_count": 4,
   "id": "0ad7fd8b-4018-45e1-a759-c4ff0a6161dc",
   "metadata": {},
   "outputs": [
    {
     "name": "stdout",
     "output_type": "stream",
     "text": [
      "Unzipped data to: /Users/vadim/block6/525/525-Group30/notebooks/data/raw\n",
      "Unzipped data to: /Users/vadim/block6/525/525-Group30/notebooks/data/raw\n",
      "Time Elapsed (to download and unzip the data): 2min 9s ± 0 ns per loop (mean ± std. dev. of 1 run, 1 loop each)\n"
     ]
    }
   ],
   "source": [
    "time_get_data = %timeit -q -o -r 1 get_data(url=\"https://figshare.com/ndownloader/files/26766812\", out_folder=\"data/raw\")\n",
    "print(f\"Time Elapsed (to download and unzip the data): {time_get_data}\")"
   ]
  },
  {
   "cell_type": "code",
   "execution_count": 5,
   "id": "8a36571c-ba9a-48e1-86a1-7b7b15f0a719",
   "metadata": {},
   "outputs": [],
   "source": [
    "# article_id = 14096681\n",
    "# url = f\"https://api.figshare.com/v2/articles/{article_id}\"\n",
    "# headers = {\"Content-Type\": \"application/json\"}\n",
    "# output_directory = \"data/raw/\""
   ]
  },
  {
   "cell_type": "code",
   "execution_count": 6,
   "id": "4936fe79-8127-41f5-8a64-c3cf35718ea2",
   "metadata": {},
   "outputs": [],
   "source": [
    "# response = requests.request(\"GET\", url, headers=headers)\n",
    "# data = json.loads(response.text)\n",
    "# files = data[\"files\"]\n",
    "# files"
   ]
  },
  {
   "cell_type": "code",
   "execution_count": 7,
   "id": "d6450c4d-2b5d-4548-b8e9-942cf5c818ab",
   "metadata": {},
   "outputs": [],
   "source": [
    "# %%time\n",
    "# files_to_dl = [\"data.zip\"]  # feel free to add other files here\n",
    "# for file in files:\n",
    "#     if file[\"name\"] in files_to_dl:\n",
    "#         os.makedirs(output_directory, exist_ok=True)\n",
    "#         urlretrieve(file[\"download_url\"], output_directory + file[\"name\"])"
   ]
  },
  {
   "cell_type": "code",
   "execution_count": 8,
   "id": "47768d7d-0dc7-403d-911d-72b71a9cd015",
   "metadata": {},
   "outputs": [],
   "source": [
    "# %%time\n",
    "# with ZipFile(os.path.join(output_directory, \"data.zip\"), 'r') as f:\n",
    "#     f.extractall(output_directory)"
   ]
  },
  {
   "cell_type": "markdown",
   "id": "98ec0523-9bdf-4e80-b319-4a93338cc5bf",
   "metadata": {},
   "source": [
    "## Combining all .csv files into one DataFrame"
   ]
  },
  {
   "cell_type": "code",
   "execution_count": 10,
   "id": "1e55f0ca-f62e-4f58-81b5-f180e8cd3492",
   "metadata": {},
   "outputs": [
    {
     "name": "stdout",
     "output_type": "stream",
     "text": [
      "Time Elapsed (to combine the data): 1min 42s ± 0 ns per loop (mean ± std. dev. of 1 run, 1 loop each)\n",
      "\n",
      "<class 'pandas.core.frame.DataFrame'>\n",
      "Int64Index: 62513863 entries, 0 to 3541152\n",
      "Data columns (total 7 columns):\n",
      " #   Column         Dtype  \n",
      "---  ------         -----  \n",
      " 0   time           object \n",
      " 1   lat_min        float64\n",
      " 2   lat_max        float64\n",
      " 3   lon_min        float64\n",
      " 4   lon_max        float64\n",
      " 5   rain (mm/day)  float64\n",
      " 6   model          object \n",
      "dtypes: float64(5), object(2)\n",
      "memory usage: 3.7+ GB\n"
     ]
    }
   ],
   "source": [
    "path, dirs, files = next(os.walk(\"data/raw\"))\n",
    "#files.remove(\"data.zip\")\n",
    "file_count = len(files)\n",
    "\n",
    "def combine_data():\n",
    "    combined_df = pd.DataFrame()\n",
    "    for file in files:\n",
    "        temp = pd.DataFrame()\n",
    "        model_name = file.split('_')[0]\n",
    "        temp = pd.read_csv('data/raw/' + file)\n",
    "        temp['model'] = model_name\n",
    "        combined_df = pd.concat([combined_df, temp], axis=0)\n",
    "    return combined_df\n",
    "\n",
    "time_combine_data = %timeit -q -o -r 1 combine_data()\n",
    "print(f\"Time Elapsed (to combine the data): {time_combine_data}\\n\")\n",
    "\n",
    "combined_df = combine_data()\n",
    "\n",
    "combined_df.info()"
   ]
  },
  {
   "cell_type": "code",
   "execution_count": 11,
   "id": "34f74127-e807-4fa1-a544-79471a2ab978",
   "metadata": {},
   "outputs": [],
   "source": [
    "if len(os.listdir(os.getcwd() + \"/data/processed\")) > 0:\n",
    "    files = glob.glob(os.getcwd() + \"/data/processed/*\")\n",
    "    for f in files:\n",
    "        os.remove(f)"
   ]
  },
  {
   "cell_type": "code",
   "execution_count": 12,
   "id": "da67e162-9a1f-49f4-9d10-938f59cd2f74",
   "metadata": {},
   "outputs": [
    {
     "name": "stdout",
     "output_type": "stream",
     "text": [
      "CPU times: user 5min 57s, sys: 30.3 s, total: 6min 27s\n",
      "Wall time: 6min 31s\n"
     ]
    }
   ],
   "source": [
    "%%time\n",
    "combined_df.to_csv('data/processed/combined_df.csv')"
   ]
  },
  {
   "cell_type": "code",
   "execution_count": 13,
   "id": "2d24659d-18b6-426f-97d8-9c782abde7f1",
   "metadata": {},
   "outputs": [
    {
     "data": {
      "text/html": [
       "<div>\n",
       "<style scoped>\n",
       "    .dataframe tbody tr th:only-of-type {\n",
       "        vertical-align: middle;\n",
       "    }\n",
       "\n",
       "    .dataframe tbody tr th {\n",
       "        vertical-align: top;\n",
       "    }\n",
       "\n",
       "    .dataframe thead th {\n",
       "        text-align: right;\n",
       "    }\n",
       "</style>\n",
       "<table border=\"1\" class=\"dataframe\">\n",
       "  <thead>\n",
       "    <tr style=\"text-align: right;\">\n",
       "      <th></th>\n",
       "      <th>time</th>\n",
       "      <th>lat_min</th>\n",
       "      <th>lat_max</th>\n",
       "      <th>lon_min</th>\n",
       "      <th>lon_max</th>\n",
       "      <th>rain (mm/day)</th>\n",
       "      <th>model</th>\n",
       "    </tr>\n",
       "  </thead>\n",
       "  <tbody>\n",
       "    <tr>\n",
       "      <th>0</th>\n",
       "      <td>1889-01-01 12:00:00</td>\n",
       "      <td>-35.439867</td>\n",
       "      <td>-33.574619</td>\n",
       "      <td>141.5625</td>\n",
       "      <td>143.4375</td>\n",
       "      <td>4.244226e-13</td>\n",
       "      <td>MPI-ESM-1-2-HAM</td>\n",
       "    </tr>\n",
       "    <tr>\n",
       "      <th>1</th>\n",
       "      <td>1889-01-02 12:00:00</td>\n",
       "      <td>-35.439867</td>\n",
       "      <td>-33.574619</td>\n",
       "      <td>141.5625</td>\n",
       "      <td>143.4375</td>\n",
       "      <td>4.217326e-13</td>\n",
       "      <td>MPI-ESM-1-2-HAM</td>\n",
       "    </tr>\n",
       "    <tr>\n",
       "      <th>2</th>\n",
       "      <td>1889-01-03 12:00:00</td>\n",
       "      <td>-35.439867</td>\n",
       "      <td>-33.574619</td>\n",
       "      <td>141.5625</td>\n",
       "      <td>143.4375</td>\n",
       "      <td>4.498125e-13</td>\n",
       "      <td>MPI-ESM-1-2-HAM</td>\n",
       "    </tr>\n",
       "    <tr>\n",
       "      <th>3</th>\n",
       "      <td>1889-01-04 12:00:00</td>\n",
       "      <td>-35.439867</td>\n",
       "      <td>-33.574619</td>\n",
       "      <td>141.5625</td>\n",
       "      <td>143.4375</td>\n",
       "      <td>4.251282e-13</td>\n",
       "      <td>MPI-ESM-1-2-HAM</td>\n",
       "    </tr>\n",
       "    <tr>\n",
       "      <th>4</th>\n",
       "      <td>1889-01-05 12:00:00</td>\n",
       "      <td>-35.439867</td>\n",
       "      <td>-33.574619</td>\n",
       "      <td>141.5625</td>\n",
       "      <td>143.4375</td>\n",
       "      <td>4.270161e-13</td>\n",
       "      <td>MPI-ESM-1-2-HAM</td>\n",
       "    </tr>\n",
       "  </tbody>\n",
       "</table>\n",
       "</div>"
      ],
      "text/plain": [
       "                  time    lat_min    lat_max   lon_min   lon_max  \\\n",
       "0  1889-01-01 12:00:00 -35.439867 -33.574619  141.5625  143.4375   \n",
       "1  1889-01-02 12:00:00 -35.439867 -33.574619  141.5625  143.4375   \n",
       "2  1889-01-03 12:00:00 -35.439867 -33.574619  141.5625  143.4375   \n",
       "3  1889-01-04 12:00:00 -35.439867 -33.574619  141.5625  143.4375   \n",
       "4  1889-01-05 12:00:00 -35.439867 -33.574619  141.5625  143.4375   \n",
       "\n",
       "   rain (mm/day)            model  \n",
       "0   4.244226e-13  MPI-ESM-1-2-HAM  \n",
       "1   4.217326e-13  MPI-ESM-1-2-HAM  \n",
       "2   4.498125e-13  MPI-ESM-1-2-HAM  \n",
       "3   4.251282e-13  MPI-ESM-1-2-HAM  \n",
       "4   4.270161e-13  MPI-ESM-1-2-HAM  "
      ]
     },
     "execution_count": 13,
     "metadata": {},
     "output_type": "execute_result"
    }
   ],
   "source": [
    "combined_df.head()"
   ]
  },
  {
   "cell_type": "markdown",
   "id": "83334b5f-10d2-48fe-b65a-13abdb51639c",
   "metadata": {},
   "source": [
    "Time taken to combine data CSV files:\n",
    "\n",
    "| Team Member | Operating System | RAM | Processor | Is SSD | Time taken (mm:ss) |\n",
    "|:-----------:|:----------------:|:---:|:---------:|:------:|:----------:|\n",
    "| Jordan      |   macOS Big Sur  | 8GB |    M1     |   Y    |    |\n",
    "| Vadim       | macOS Monterey |  32GB  | 2.6 GHz 6-Core Intel Core i7 | Y | 1:42 |\n",
    "| Nick        |         Win10    |  32GB   |     i7-10750H      |     Y   |        |"
   ]
  },
  {
   "cell_type": "markdown",
   "id": "1d70034d",
   "metadata": {},
   "source": [
    "# Load the combined CSV to memory and perform a simple EDA"
   ]
  },
  {
   "cell_type": "code",
   "execution_count": 14,
   "id": "420ded5e",
   "metadata": {},
   "outputs": [],
   "source": [
    "%load_ext memory_profiler"
   ]
  },
  {
   "cell_type": "markdown",
   "id": "d610cbe8",
   "metadata": {},
   "source": [
    "For our EDA, we will just be producing a simple histogram of rainfall amounts."
   ]
  },
  {
   "cell_type": "markdown",
   "id": "c570ccd0",
   "metadata": {},
   "source": [
    "#### Loading the full dataset"
   ]
  },
  {
   "cell_type": "code",
   "execution_count": 15,
   "id": "b877a3d6",
   "metadata": {},
   "outputs": [
    {
     "name": "stdout",
     "output_type": "stream",
     "text": [
      "peak memory: 16084.41 MiB, increment: 4206.03 MiB\n",
      "CPU times: user 1min 32s, sys: 17.5 s, total: 1min 50s\n",
      "Wall time: 1min 53s\n"
     ]
    },
    {
     "data": {
      "image/png": "[encoded data removed]",
      "text/plain": [
       "<Figure size 360x360 with 1 Axes>"
      ]
     },
     "metadata": {
      "needs_background": "light"
     },
     "output_type": "display_data"
    }
   ],
   "source": [
    "%%time\n",
    "%%memit\n",
    "df = pd.read_csv(\"data/processed/combined_df.csv\", index_col=0)\n",
    "df[\"rain (mm/day)\"].hist(figsize=(5, 5), bins=30)"
   ]
  },
  {
   "cell_type": "markdown",
   "id": "522c09e0",
   "metadata": {},
   "source": [
    "Time taken load the combined CSV to memory:\n",
    "\n",
    "| Team Member | Operating System | RAM | Processor | Is SSD | Time taken (mm:ss)|\n",
    "|:-----------:|:----------------:|:---:|:---------:|:------:|:----------:|\n",
    "| Jordan      |   macOS Big Sur  | 8GB |    M1     |   Y    |    1:33    |\n",
    "| Vadim       | macOS Monterey |  32GB  | 2.6 GHz 6-Core Intel Core i7 | Y | 1:32 |\n",
    "| Nick        |         Win10    |  32GB   |     i7-10750H      |     Y   |       1:12     |"
   ]
  },
  {
   "cell_type": "markdown",
   "id": "bb37923b",
   "metadata": {},
   "source": [
    "Observations: loading the whole dataset and performing our simple EDA requires 9562.81 MiB of memory, with a total wall time of 1 minute 33 seconds. "
   ]
  },
  {
   "cell_type": "markdown",
   "id": "3304832e",
   "metadata": {},
   "source": [
    "#### Loading only the columns we need"
   ]
  },
  {
   "cell_type": "code",
   "execution_count": 16,
   "id": "5b4bfb27",
   "metadata": {},
   "outputs": [
    {
     "name": "stdout",
     "output_type": "stream",
     "text": [
      "peak memory: 15827.21 MiB, increment: 0.10 MiB\n",
      "CPU times: user 44.6 s, sys: 9.51 s, total: 54.1 s\n",
      "Wall time: 55.2 s\n"
     ]
    },
    {
     "data": {
      "image/png": "[encoded data removed]",
      "text/plain": [
       "<Figure size 360x360 with 1 Axes>"
      ]
     },
     "metadata": {
      "needs_background": "light"
     },
     "output_type": "display_data"
    }
   ],
   "source": [
    "%%time\n",
    "%%memit\n",
    "useful_cols = ['time','rain (mm/day)']\n",
    "df_columns = pd.read_csv(\"data/processed/combined_df.csv\",usecols=useful_cols)\n",
    "df_columns[\"rain (mm/day)\"].hist(figsize=(5, 5), bins=30)"
   ]
  },
  {
   "cell_type": "markdown",
   "id": "b1e407ac",
   "metadata": {},
   "source": [
    "| Team Member | Operating System | RAM | Processor | Is SSD | Time taken |\n",
    "|:-----------:|:----------------:|:---:|:---------:|:------:|:----------:|\n",
    "| Jordan      |   macOS Big Sur  | 8GB |    M1     |   Y    |    55.1s   |\n",
    "| Vadim       | macOS Monterey |  32GB  | 2.6 GHz 6-Core Intel Core i7 | Y  |     54.1s    |\n",
    "| Nick        |         Win10    |  32GB   |     i7-10750H      |     Y   |       53.2s     |"
   ]
  },
  {
   "cell_type": "markdown",
   "id": "23291a4c",
   "metadata": {},
   "source": [
    "Observations: loading only the columnns we needed reduced our peak memory requirement down to 8305.33 MiB of memory, with a total wall time of around 55 seconds (on My MAC). Surprisingly, this did not reduce the peak memory requirement that much! "
   ]
  },
  {
   "cell_type": "markdown",
   "id": "238ecdf2",
   "metadata": {},
   "source": [
    "#### Changing the dtype "
   ]
  },
  {
   "cell_type": "markdown",
   "id": "ea0f95ef",
   "metadata": {},
   "source": [
    "The code below is adapted from lecture notes. "
   ]
  },
  {
   "cell_type": "code",
   "execution_count": 17,
   "id": "450fbb2e",
   "metadata": {},
   "outputs": [
    {
     "name": "stdout",
     "output_type": "stream",
     "text": [
      "Memory usage with float64: 3000.67 MB\n",
      "Memory usage with float32: 1750.39 MB\n"
     ]
    }
   ],
   "source": [
    "print(f\"Memory usage with float64: {df[['lat_min','lat_max','lon_min','lon_max','rain (mm/day)']].memory_usage().sum() / 1e6:.2f} MB\")\n",
    "print(f\"Memory usage with float32: {df[['lat_min','lat_max','lon_min','lon_max','rain (mm/day)']].astype('float32', errors='ignore').memory_usage().sum() / 1e6:.2f} MB\")"
   ]
  },
  {
   "cell_type": "code",
   "execution_count": 21,
   "id": "2c1d99c5",
   "metadata": {},
   "outputs": [
    {
     "name": "stdout",
     "output_type": "stream",
     "text": [
      "peak memory: 18081.89 MiB, increment: 1192.75 MiB\n",
      "CPU times: user 3.34 s, sys: 2.63 s, total: 5.98 s\n",
      "Wall time: 6.78 s\n"
     ]
    },
    {
     "data": {
      "image/png": "[encoded data removed]",
      "text/plain": [
       "<Figure size 360x360 with 1 Axes>"
      ]
     },
     "metadata": {
      "needs_background": "light"
     },
     "output_type": "display_data"
    }
   ],
   "source": [
    "%%time\n",
    "%%memit\n",
    "df_dtype = df.astype({'lat_min': 'float32',\n",
    "                      'lat_max': 'float32',\n",
    "                      'lon_min': 'float32',\n",
    "                      'lon_max': 'float32',\n",
    "                      'rain (mm/day)': 'float32'})\n",
    "df_dtype[\"rain (mm/day)\"].hist(figsize=(5, 5), bins=30)"
   ]
  },
  {
   "cell_type": "markdown",
   "id": "a1198f13",
   "metadata": {},
   "source": [
    "| Team Member | Operating System | RAM | Processor | Is SSD | Time taken |\n",
    "|:-----------:|:----------------:|:---:|:---------:|:------:|:----------:|\n",
    "| Jordan      |   macOS Big Sur  | 8GB |    M1     |   Y    |    13.8s   |\n",
    "| Vadim       | macOS Monterey |  32GB  | 2.6 GHz 6-Core Intel Core i7 | Y |       5.98s     |\n",
    "| Nick        |         Win10    |  32GB   |     i7-10750H      |     Y   |       2.82s     |"
   ]
  },
  {
   "cell_type": "markdown",
   "id": "ff05985a",
   "metadata": {},
   "source": [
    "Observations: Changing the dtype from float64 to float32 resulted in fairly significant decrease in peak memory usage as well as increase in speed. We needed reduced our peak memory requirement down to 6359.86 MiB, with a total wall time of around 14 seconds (on My MAC). If we wanted to further improve performance we could combine the last two strategies: only loading some columns combined with changing the dtype of those columns. "
   ]
  },
  {
   "cell_type": "markdown",
   "id": "94ec92e8-e37f-4740-aab0-75f15cd6c0a5",
   "metadata": {},
   "source": [
    "# Perform a simple EDA in R"
   ]
  },
  {
   "cell_type": "code",
   "execution_count": null,
   "id": "34227ba1-ca0c-4496-991b-e4e9de645ff1",
   "metadata": {},
   "outputs": [],
   "source": [
    "%load_ext rpy2.ipython"
   ]
  },
  {
   "cell_type": "code",
   "execution_count": null,
   "id": "e00d1bd8-7e08-4127-a440-e9554571e747",
   "metadata": {},
   "outputs": [],
   "source": [
    "import pyarrow.dataset as ds\n",
    "import pyarrow as pa\n",
    "import pandas as pd\n",
    "import pyarrow \n",
    "from pyarrow import csv\n",
    "import rpy2_arrow.pyarrow_rarrow as pyra"
   ]
  },
  {
   "cell_type": "code",
   "execution_count": null,
   "id": "769c42c2-e071-4e7b-9ae2-3ce02303c6af",
   "metadata": {},
   "outputs": [],
   "source": [
    "%%time\n",
    "rdf = pyra.converter.py2rpy(pa.Table.from_pandas(df))"
   ]
  },
  {
   "cell_type": "code",
   "execution_count": null,
   "id": "1340a3dc-5225-48fb-8a58-e841157eca14",
   "metadata": {},
   "outputs": [],
   "source": [
    "%%time\n",
    "%%R -i rdf\n",
    "start_time <- Sys.time()\n",
    "suppressMessages(library(tidyverse))\n",
    "suppressMessages(library(stringr))\n",
    "suppressMessages(library(lubridate))\n",
    "print(rdf |> head() |> collect())\n",
    "end_time <- Sys.time()\n",
    "print(end_time - start_time)"
   ]
  },
  {
   "cell_type": "code",
   "execution_count": null,
   "id": "d2632a01-f3d7-4472-8dc8-20b41165fec5",
   "metadata": {},
   "outputs": [],
   "source": [
    "%%time\n",
    "%%R\n",
    "names(rdf)[names(rdf) == \"rain (mm/day)\"] <- \"rain\"\n",
    "rdf_year <- rdf |> \n",
    "  mutate(year = as.integer(substr(time, 1, 4))) |> \n",
    "  group_by(year) |> \n",
    "  summarise(avg_rain = mean(rain, na.rm = TRUE))\n",
    "\n",
    "print(rdf_year |> collect())"
   ]
  },
  {
   "cell_type": "code",
   "execution_count": null,
   "id": "f0ebbcdd-9b03-4621-9365-188c2a279331",
   "metadata": {},
   "outputs": [],
   "source": [
    "%%time\n",
    "%%R\n",
    "\n",
    "plot <- rdf_year |> \n",
    "  ungroup() |> \n",
    "  as.data.frame(rdf_year) |> \n",
    "  ggplot(aes(x = year, y = avg_rain)) + \n",
    "  geom_line() + \n",
    "  labs(title = \"Average rain volume by year\",\n",
    "       x = \"Year\",\n",
    "       y = \"Average rain\")\n",
    "\n",
    "plot"
   ]
  },
  {
   "cell_type": "markdown",
   "id": "aa947b47-f05f-421b-967c-c735fac06d75",
   "metadata": {},
   "source": [
    "#### Comment on loading data in R\n",
    "\n",
    "As shown in the cells above, loading the data from pandas to R and display in notebook took under 10s. After that, doing regular data wrangling and plotting took another 5s. The overall processing time regarding a 6GiB data set was very fast.  \n",
    "We chose to use Arrow exchange over other methods. We wanted to load the dataframe from computer's memory directly instead of loading it from disk. As we have done some data loading by using Pandas, we can use Arrow exchange to load data from memory to R. Using Parquet or Feather requires creating a new file on hard disk and loading them into R takes time. However, if we want to work on the dataset again or transfer the data to another person, saving the processed data in Parquet form will be necessary."
   ]
  }
 ],
 "metadata": {
  "interpreter": {
   "hash": "8fa65542d2675a9ee41699cfd74d273b5314886d450732b4297d89e1ed7f55c8"
  },
  "kernelspec": {
   "display_name": "Python 3 (ipykernel)",
   "language": "python",
   "name": "python3"
  },
  "language_info": {
   "codemirror_mode": {
    "name": "ipython",
    "version": 3
   },
   "file_extension": ".py",
   "mimetype": "text/x-python",
   "name": "python",
   "nbconvert_exporter": "python",
   "pygments_lexer": "ipython3",
   "version": "3.9.9"
  }
 },
 "nbformat": 4,
 "nbformat_minor": 5
}
