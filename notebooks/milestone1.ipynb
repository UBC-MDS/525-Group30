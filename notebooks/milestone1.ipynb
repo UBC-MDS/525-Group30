{
 "cells": [
  {
   "cell_type": "markdown",
   "id": "93df8bf1-d594-4662-be78-e235b747272b",
   "metadata": {},
   "source": [
    "## Imports"
   ]
  },
  {
   "cell_type": "code",
   "execution_count": 1,
   "id": "bceb9bf2-a32e-46c8-8bac-87d5063b85c8",
   "metadata": {},
   "outputs": [],
   "source": [
    "import requests\n",
    "import os\n",
    "import json\n",
    "\n",
    "from urllib.request import urlopen\n",
    "from zipfile import ZipFile\n",
    "from urllib.request import urlretrieve\n",
    "\n",
    "from os import listdir\n",
    "from os.path import isfile, join\n",
    "\n",
    "import pandas as pd\n",
    "import glob\n",
    "import matplotlib.pyplot as plt"
   ]
  },
  {
   "cell_type": "markdown",
   "id": "00c13798-631b-46ea-9d9f-a2c84b93428c",
   "metadata": {},
   "source": [
    "## Download and Unzip Data"
   ]
  },
  {
   "cell_type": "markdown",
   "id": "840eab4e-62dd-484b-86bd-7250746acdf7",
   "metadata": {},
   "source": [
    "We have both MAC and Windows user in our group. The data loading code for MAC does not work on Windows. In the cells below, we have downloading data code for MAC. The commented code for downloading data is used by Windows system."
   ]
  },
  {
   "cell_type": "code",
   "execution_count": 2,
   "id": "7a177d91-6a47-4578-a226-0a72b0d6087a",
   "metadata": {},
   "outputs": [],
   "source": [
    "def unzip(url, out_folder):\n",
    "    try:\n",
    "        tempzip = open(\"/tmp/tempfile.zip\", \"wb\")\n",
    "        tempzip.write(urlopen(url).read())\n",
    "        tempzip.close()\n",
    "        zf = ZipFile(\"/tmp/tempfile.zip\")\n",
    "        zf.extractall(path=out_folder)\n",
    "        zf.close()\n",
    "        print(f\"Unzipped data to: {os.getcwd()}/{out_folder}\")\n",
    "    except Exception as req:\n",
    "        raise UnzipFileError(req)\n",
    "\n",
    "def get_data(url, out_folder):\n",
    "    try:\n",
    "        request = requests.get(url)\n",
    "        if request.status_code == 200:\n",
    "            if not os.path.exists(os.getcwd() + \"/\" + out_folder):\n",
    "                os.makedirs(out_folder + \"/\")\n",
    "        \n",
    "    except Exception as req:\n",
    "        print(\"Invalid URL provided.\")\n",
    "        print(req)\n",
    "\n",
    "    return unzip(url, out_folder)"
   ]
  },
  {
   "cell_type": "code",
   "execution_count": 3,
   "id": "f4c868d5-e2d4-4569-a966-520db07283dd",
   "metadata": {},
   "outputs": [],
   "source": [
    "if not os.path.exists(os.getcwd() + \"/data/raw/__MACOSX\"):\n",
    "    pass\n",
    "\n",
    "else:\n",
    "    files = glob.glob(os.getcwd() + \"/data/raw/__MACOSX/*\")\n",
    "    for f in files:\n",
    "        os.remove(f)\n",
    "    os.rmdir(os.getcwd() + \"/data/raw/__MACOSX\")\n",
    "\n",
    "if len(os.listdir(os.getcwd() + \"/data/raw\")) > 0:\n",
    "    files = glob.glob(os.getcwd() + \"/data/raw/*\")\n",
    "    for f in files:\n",
    "        os.remove(f)\n",
    "else:\n",
    "    pass"
   ]
  },
  {
   "cell_type": "code",
   "execution_count": 4,
   "id": "0ad7fd8b-4018-45e1-a759-c4ff0a6161dc",
   "metadata": {},
   "outputs": [],
   "source": [
    "time_get_data = %timeit -q -o -r 1 get_data(url=\"https://figshare.com/ndownloader/files/26766812\", out_folder=\"data/raw\")\n",
    "print(f\"Time Elapsed (to download and unzip the data): {time_get_data}\")"
   ]
  },
  {
   "cell_type": "code",
   "execution_count": 5,
   "id": "8a36571c-ba9a-48e1-86a1-7b7b15f0a719",
   "metadata": {},
   "outputs": [],
   "source": [
    "# article_id = 14096681\n",
    "# url = f\"https://api.figshare.com/v2/articles/{article_id}\"\n",
    "# headers = {\"Content-Type\": \"application/json\"}\n",
    "# output_directory = \"data/raw/\""
   ]
  },
  {
   "cell_type": "code",
   "execution_count": 6,
   "id": "4936fe79-8127-41f5-8a64-c3cf35718ea2",
   "metadata": {},
   "outputs": [
    {
     "data": {
      "text/plain": [
       "[{'id': 26579150,\n",
       "  'name': 'daily_rainfall_2014.png',\n",
       "  'size': 58863,\n",
       "  'is_link_only': False,\n",
       "  'download_url': 'https://ndownloader.figshare.com/files/26579150',\n",
       "  'supplied_md5': 'fd32a2ffde300a31f8d63b1825d47e5e',\n",
       "  'computed_md5': 'fd32a2ffde300a31f8d63b1825d47e5e'},\n",
       " {'id': 26579171,\n",
       "  'name': 'environment.yml',\n",
       "  'size': 192,\n",
       "  'is_link_only': False,\n",
       "  'download_url': 'https://ndownloader.figshare.com/files/26579171',\n",
       "  'supplied_md5': '060b2020017eed93a1ee7dd8c65b2f34',\n",
       "  'computed_md5': '060b2020017eed93a1ee7dd8c65b2f34'},\n",
       " {'id': 26586554,\n",
       "  'name': 'README.md',\n",
       "  'size': 5422,\n",
       "  'is_link_only': False,\n",
       "  'download_url': 'https://ndownloader.figshare.com/files/26586554',\n",
       "  'supplied_md5': '61858c6cc0e6a6d6663a7e4c75bbd88c',\n",
       "  'computed_md5': '61858c6cc0e6a6d6663a7e4c75bbd88c'},\n",
       " {'id': 26766812,\n",
       "  'name': 'data.zip',\n",
       "  'size': 814041183,\n",
       "  'is_link_only': False,\n",
       "  'download_url': 'https://ndownloader.figshare.com/files/26766812',\n",
       "  'supplied_md5': 'b517383f76e77bd03755a63a8ff83ee9',\n",
       "  'computed_md5': 'b517383f76e77bd03755a63a8ff83ee9'},\n",
       " {'id': 26766815,\n",
       "  'name': 'get_data.py',\n",
       "  'size': 4113,\n",
       "  'is_link_only': False,\n",
       "  'download_url': 'https://ndownloader.figshare.com/files/26766815',\n",
       "  'supplied_md5': '7829028495fd9dec9680ea013474afa6',\n",
       "  'computed_md5': '7829028495fd9dec9680ea013474afa6'}]"
      ]
     },
     "execution_count": 6,
     "metadata": {},
     "output_type": "execute_result"
    }
   ],
   "source": [
    "# response = requests.request(\"GET\", url, headers=headers)\n",
    "# data = json.loads(response.text)\n",
    "# files = data[\"files\"]\n",
    "# files"
   ]
  },
  {
   "cell_type": "code",
   "execution_count": 7,
   "id": "d6450c4d-2b5d-4548-b8e9-942cf5c818ab",
   "metadata": {},
   "outputs": [
    {
     "name": "stdout",
     "output_type": "stream",
     "text": [
      "CPU times: total: 1.89 s\n",
      "Wall time: 1min 34s\n"
     ]
    }
   ],
   "source": [
    "# %%time\n",
    "# files_to_dl = [\"data.zip\"]  # feel free to add other files here\n",
    "# for file in files:\n",
    "#     if file[\"name\"] in files_to_dl:\n",
    "#         os.makedirs(output_directory, exist_ok=True)\n",
    "#         urlretrieve(file[\"download_url\"], output_directory + file[\"name\"])"
   ]
  },
  {
   "cell_type": "code",
   "execution_count": 8,
   "id": "47768d7d-0dc7-403d-911d-72b71a9cd015",
   "metadata": {},
   "outputs": [
    {
     "name": "stdout",
     "output_type": "stream",
     "text": [
      "CPU times: total: 13.5 s\n",
      "Wall time: 13.5 s\n"
     ]
    }
   ],
   "source": [
    "# %%time\n",
    "# with ZipFile(os.path.join(output_directory, \"data.zip\"), 'r') as f:\n",
    "#     f.extractall(output_directory)"
   ]
  },
  {
   "cell_type": "markdown",
   "id": "98ec0523-9bdf-4e80-b319-4a93338cc5bf",
   "metadata": {},
   "source": [
    "## Combining all .csv files into one DataFrame"
   ]
  },
  {
   "cell_type": "code",
   "execution_count": 2,
   "id": "1e55f0ca-f62e-4f58-81b5-f180e8cd3492",
   "metadata": {},
   "outputs": [
    {
     "name": "stdout",
     "output_type": "stream",
     "text": [
      "Time Elapsed (to combine the data): 1min 9s ± 0 ns per loop (mean ± std. dev. of 1 run, 1 loop each)\n",
      "\n",
      "<class 'pandas.core.frame.DataFrame'>\n",
      "Int64Index: 62513863 entries, 0 to 3541229\n",
      "Data columns (total 7 columns):\n",
      " #   Column         Dtype  \n",
      "---  ------         -----  \n",
      " 0   time           object \n",
      " 1   lat_min        float64\n",
      " 2   lat_max        float64\n",
      " 3   lon_min        float64\n",
      " 4   lon_max        float64\n",
      " 5   rain (mm/day)  float64\n",
      " 6   model          object \n",
      "dtypes: float64(5), object(2)\n",
      "memory usage: 3.7+ GB\n"
     ]
    }
   ],
   "source": [
    "path, dirs, files = next(os.walk(\"data/raw\"))\n",
    "files.remove(\"data.zip\")\n",
    "file_count = len(files)\n",
    "\n",
    "def combine_data():\n",
    "    combined_df = pd.DataFrame()\n",
    "    for file in files:\n",
    "        temp = pd.DataFrame()\n",
    "        model_name = file.split('_')[0]\n",
    "        temp = pd.read_csv('data/raw/' + file)\n",
    "        temp['model'] = model_name\n",
    "        combined_df = pd.concat([combined_df, temp], axis=0)\n",
    "    return combined_df\n",
    "\n",
    "time_combine_data = %timeit -q -o -r 1 combine_data()\n",
    "print(f\"Time Elapsed (to combine the data): {time_combine_data}\\n\")\n",
    "\n",
    "combined_df = combine_data()\n",
    "\n",
    "combined_df.info()"
   ]
  },
  {
   "cell_type": "code",
   "execution_count": 3,
   "id": "34f74127-e807-4fa1-a544-79471a2ab978",
   "metadata": {},
   "outputs": [],
   "source": [
    "if len(os.listdir(os.getcwd() + \"/data/processed\")) > 0:\n",
    "    files = glob.glob(os.getcwd() + \"/data/processed/*\")\n",
    "    for f in files:\n",
    "        os.remove(f)"
   ]
  },
  {
   "cell_type": "code",
   "execution_count": 4,
   "id": "da67e162-9a1f-49f4-9d10-938f59cd2f74",
   "metadata": {},
   "outputs": [
    {
     "name": "stdout",
     "output_type": "stream",
     "text": [
      "CPU times: total: 6min 33s\n",
      "Wall time: 6min 33s\n"
     ]
    }
   ],
   "source": [
    "%%time\n",
    "combined_df.to_csv('data/processed/combined_df.csv')"
   ]
  },
  {
   "cell_type": "code",
   "execution_count": 5,
   "id": "2d24659d-18b6-426f-97d8-9c782abde7f1",
   "metadata": {},
   "outputs": [
    {
     "data": {
      "text/html": [
       "<div>\n",
       "<style scoped>\n",
       "    .dataframe tbody tr th:only-of-type {\n",
       "        vertical-align: middle;\n",
       "    }\n",
       "\n",
       "    .dataframe tbody tr th {\n",
       "        vertical-align: top;\n",
       "    }\n",
       "\n",
       "    .dataframe thead th {\n",
       "        text-align: right;\n",
       "    }\n",
       "</style>\n",
       "<table border=\"1\" class=\"dataframe\">\n",
       "  <thead>\n",
       "    <tr style=\"text-align: right;\">\n",
       "      <th></th>\n",
       "      <th>time</th>\n",
       "      <th>lat_min</th>\n",
       "      <th>lat_max</th>\n",
       "      <th>lon_min</th>\n",
       "      <th>lon_max</th>\n",
       "      <th>rain (mm/day)</th>\n",
       "      <th>model</th>\n",
       "    </tr>\n",
       "  </thead>\n",
       "  <tbody>\n",
       "    <tr>\n",
       "      <th>0</th>\n",
       "      <td>1889-01-01 12:00:00</td>\n",
       "      <td>-36.25</td>\n",
       "      <td>-35.0</td>\n",
       "      <td>140.625</td>\n",
       "      <td>142.5</td>\n",
       "      <td>3.293256e-13</td>\n",
       "      <td>ACCESS-CM2</td>\n",
       "    </tr>\n",
       "    <tr>\n",
       "      <th>1</th>\n",
       "      <td>1889-01-02 12:00:00</td>\n",
       "      <td>-36.25</td>\n",
       "      <td>-35.0</td>\n",
       "      <td>140.625</td>\n",
       "      <td>142.5</td>\n",
       "      <td>0.000000e+00</td>\n",
       "      <td>ACCESS-CM2</td>\n",
       "    </tr>\n",
       "    <tr>\n",
       "      <th>2</th>\n",
       "      <td>1889-01-03 12:00:00</td>\n",
       "      <td>-36.25</td>\n",
       "      <td>-35.0</td>\n",
       "      <td>140.625</td>\n",
       "      <td>142.5</td>\n",
       "      <td>0.000000e+00</td>\n",
       "      <td>ACCESS-CM2</td>\n",
       "    </tr>\n",
       "    <tr>\n",
       "      <th>3</th>\n",
       "      <td>1889-01-04 12:00:00</td>\n",
       "      <td>-36.25</td>\n",
       "      <td>-35.0</td>\n",
       "      <td>140.625</td>\n",
       "      <td>142.5</td>\n",
       "      <td>0.000000e+00</td>\n",
       "      <td>ACCESS-CM2</td>\n",
       "    </tr>\n",
       "    <tr>\n",
       "      <th>4</th>\n",
       "      <td>1889-01-05 12:00:00</td>\n",
       "      <td>-36.25</td>\n",
       "      <td>-35.0</td>\n",
       "      <td>140.625</td>\n",
       "      <td>142.5</td>\n",
       "      <td>1.047658e-02</td>\n",
       "      <td>ACCESS-CM2</td>\n",
       "    </tr>\n",
       "  </tbody>\n",
       "</table>\n",
       "</div>"
      ],
      "text/plain": [
       "                  time  lat_min  lat_max  lon_min  lon_max  rain (mm/day)  \\\n",
       "0  1889-01-01 12:00:00   -36.25    -35.0  140.625    142.5   3.293256e-13   \n",
       "1  1889-01-02 12:00:00   -36.25    -35.0  140.625    142.5   0.000000e+00   \n",
       "2  1889-01-03 12:00:00   -36.25    -35.0  140.625    142.5   0.000000e+00   \n",
       "3  1889-01-04 12:00:00   -36.25    -35.0  140.625    142.5   0.000000e+00   \n",
       "4  1889-01-05 12:00:00   -36.25    -35.0  140.625    142.5   1.047658e-02   \n",
       "\n",
       "        model  \n",
       "0  ACCESS-CM2  \n",
       "1  ACCESS-CM2  \n",
       "2  ACCESS-CM2  \n",
       "3  ACCESS-CM2  \n",
       "4  ACCESS-CM2  "
      ]
     },
     "execution_count": 5,
     "metadata": {},
     "output_type": "execute_result"
    }
   ],
   "source": [
    "combined_df.head()"
   ]
  },
  {
   "cell_type": "markdown",
   "id": "0d8a40b3-6830-4b0e-a4ce-c22bb787b1c4",
   "metadata": {},
   "source": [
    "| Team Member | Operating System | RAM | Processor | Is SSD | Time taken |\n",
    "|:-----------:|:----------------:|:---:|:---------:|:------:|:----------:|\n",
    "| Jordan      |   macOS Big Sur  | 8GB |    M1     |   Y    |      |\n",
    "| Vadim       | macOS Monterey |  32GB  | 2.6 GHz 6-Core Intel Core i7 | Y   |      1:42    |\n",
    "| Nick        |         Win10    |  32GB   |     i7-10750H      |     Y   |     1:09    |"
   ]
  },
  {
   "cell_type": "markdown",
   "id": "1d70034d",
   "metadata": {},
   "source": [
    "# Load the combined CSV to memory and perform a simple EDA"
   ]
  },
  {
   "cell_type": "code",
   "execution_count": 2,
   "id": "420ded5e",
   "metadata": {},
   "outputs": [],
   "source": [
    "%load_ext memory_profiler"
   ]
  },
  {
   "cell_type": "markdown",
   "id": "d610cbe8",
   "metadata": {},
   "source": [
    "For our EDA, we will just be producing a simple histogram of rainfall amounts."
   ]
  },
  {
   "cell_type": "markdown",
   "id": "c570ccd0",
   "metadata": {},
   "source": [
    "#### Loading the full dataset"
   ]
  },
  {
   "cell_type": "code",
   "execution_count": 3,
   "id": "b877a3d6",
   "metadata": {},
   "outputs": [
    {
     "name": "stdout",
     "output_type": "stream",
     "text": [
      "peak memory: 12619.91 MiB, increment: 12486.04 MiB\n",
      "CPU times: total: 1min 3s\n",
      "Wall time: 1min 4s\n"
     ]
    },
    {
     "data": {
      "image/png": "[encoded data removed]",
      "text/plain": [
       "<Figure size 360x360 with 1 Axes>"
      ]
     },
     "metadata": {
      "needs_background": "light"
     },
     "output_type": "display_data"
    }
   ],
   "source": [
    "%%time\n",
    "%%memit\n",
    "df = pd.read_csv(\"data/processed/combined_df.csv\", index_col=0)\n",
    "df[\"rain (mm/day)\"].hist(figsize=(5, 5), bins=30)"
   ]
  },
  {
   "cell_type": "markdown",
   "id": "522c09e0",
   "metadata": {},
   "source": [
    "| Team Member | Operating System | RAM | Processor | Is SSD | Time taken |\n",
    "|:-----------:|:----------------:|:---:|:---------:|:------:|:----------:|\n",
    "| Jordan      |   macOS Big Sur  | 8GB |    M1     |   Y    |    1:33    |\n",
    "| Vadim       | macOS Monterey |  32GB  | 2.6 GHz 6-Core Intel Core i7 | Y   |     1:32    |\n",
    "| Nick        |         Win10    |  32GB   |     i7-10750H      |     Y   |       1:12     |"
   ]
  },
  {
   "cell_type": "markdown",
   "id": "bb37923b",
   "metadata": {},
   "source": [
    "Observations: loading the whole dataset and performing our simple EDA requires 9562.81 MiB of memory, with a total wall time of 1 minue 33 seconds. "
   ]
  },
  {
   "cell_type": "markdown",
   "id": "3304832e",
   "metadata": {},
   "source": [
    "#### Loading only the columns we need"
   ]
  },
  {
   "cell_type": "code",
   "execution_count": 9,
   "id": "5b4bfb27",
   "metadata": {},
   "outputs": [
    {
     "name": "stdout",
     "output_type": "stream",
     "text": [
      "peak memory: 13342.67 MiB, increment: 5786.99 MiB\n",
      "CPU times: total: 46.9 s\n",
      "Wall time: 47.5 s\n"
     ]
    },
    {
     "data": {
      "image/png": "[encoded data removed]",
      "text/plain": [
       "<Figure size 360x360 with 1 Axes>"
      ]
     },
     "metadata": {
      "needs_background": "light"
     },
     "output_type": "display_data"
    }
   ],
   "source": [
    "%%time\n",
    "%%memit\n",
    "useful_cols = ['time','rain (mm/day)']\n",
    "df_columns = pd.read_csv(\"data/processed/combined_df.csv\",usecols=useful_cols)\n",
    "df_columns[\"rain (mm/day)\"].hist(figsize=(5, 5), bins=30)"
   ]
  },
  {
   "cell_type": "markdown",
   "id": "b1e407ac",
   "metadata": {},
   "source": [
    "| Team Member | Operating System | RAM | Processor | Is SSD | Time taken |\n",
    "|:-----------:|:----------------:|:---:|:---------:|:------:|:----------:|\n",
    "| Jordan      |   macOS Big Sur  | 8GB |    M1     |   Y    |    55.1s   |\n",
    "| Vadim       | macOS Monterey |  32GB  | 2.6 GHz 6-Core Intel Core i7 | Y   |     54.1s    |\n",
    "| Nick        |         Win10    |  32GB   |     i7-10750H      |     Y   |       53.2s     |"
   ]
  },
  {
   "cell_type": "markdown",
   "id": "23291a4c",
   "metadata": {},
   "source": [
    "Observations: loading only the columnns we needed reduced our peak memory requirement down to 8305.33 MiB of memory, with a total wall time of around 55 seconds (on My MAC). Surprisingly, this did not reduce the peak memory requirement that much! "
   ]
  },
  {
   "cell_type": "markdown",
   "id": "238ecdf2",
   "metadata": {},
   "source": [
    "#### Changing the dtype "
   ]
  },
  {
   "cell_type": "markdown",
   "id": "ea0f95ef",
   "metadata": {},
   "source": [
    "The code below is adapted from lecture notes. "
   ]
  },
  {
   "cell_type": "code",
   "execution_count": 17,
   "id": "450fbb2e",
   "metadata": {},
   "outputs": [
    {
     "name": "stdout",
     "output_type": "stream",
     "text": [
      "Memory usage with float64: 3000.67 MB\n",
      "Memory usage with float32: 1750.39 MB\n"
     ]
    }
   ],
   "source": [
    "print(f\"Memory usage with float64: {df[['lat_min','lat_max','lon_min','lon_max','rain (mm/day)']].memory_usage().sum() / 1e6:.2f} MB\")\n",
    "print(f\"Memory usage with float32: {df[['lat_min','lat_max','lon_min','lon_max','rain (mm/day)']].astype('float32', errors='ignore').memory_usage().sum() / 1e6:.2f} MB\")"
   ]
  },
  {
   "cell_type": "code",
   "execution_count": 4,
   "id": "2c1d99c5",
   "metadata": {},
   "outputs": [
    {
     "name": "stdout",
     "output_type": "stream",
     "text": [
      "peak memory: 9915.50 MiB, increment: 2573.76 MiB\n",
      "CPU times: total: 1.97 s\n",
      "Wall time: 2.62 s\n"
     ]
    },
    {
     "data": {
      "image/png": "[encoded data removed]",
      "text/plain": [
       "<Figure size 360x360 with 1 Axes>"
      ]
     },
     "metadata": {
      "needs_background": "light"
     },
     "output_type": "display_data"
    }
   ],
   "source": [
    "%%time\n",
    "%%memit\n",
    "df_dtype = df.astype({'lat_min': 'float32',\n",
    "                      'lat_max': 'float32',\n",
    "                      'lon_min': 'float32',\n",
    "                      'lon_max': 'float32',\n",
    "                      'rain (mm/day)': 'float32'})\n",
    "df_dtype[\"rain (mm/day)\"].hist(figsize=(5, 5), bins=30)"
   ]
  },
  {
   "cell_type": "markdown",
   "id": "a1198f13",
   "metadata": {},
   "source": [
    "| Team Member | Operating System | RAM | Processor | Is SSD | Time taken |\n",
    "|:-----------:|:----------------:|:---:|:---------:|:------:|:----------:|\n",
    "| Jordan      |   macOS Big Sur  | 8GB |    M1     |   Y    |    13.8s   |\n",
    "| Vadim       | macOS Monterey |  32GB  | 2.6 GHz 6-Core Intel Core i7 | Y   |     5.98s    |\n",
    "| Nick        |         Win10    |  32GB   |     i7-10750H      |     Y   |       2.82s     |"
   ]
  },
  {
   "cell_type": "markdown",
   "id": "ff05985a",
   "metadata": {},
   "source": [
    "Observations: Changing the dtype from float64 to float32 resulted in fairly significant decrease in peak memory usage as well as increase in speed. We needed reduced our peak memory requirement down to 6359.86 MiB, with a total wall time of around 14 seconds (on My MAC). If we wanted to further improve performance we could combine the last two strategies: only loading some columns combined with changing the dtype of those columns. "
   ]
  },
  {
   "cell_type": "markdown",
   "id": "94ec92e8-e37f-4740-aab0-75f15cd6c0a5",
   "metadata": {},
   "source": [
    "# Perform a simple EDA in R"
   ]
  },
  {
   "cell_type": "code",
   "execution_count": 4,
   "id": "34227ba1-ca0c-4496-991b-e4e9de645ff1",
   "metadata": {},
   "outputs": [
    {
     "name": "stderr",
     "output_type": "stream",
     "text": [
      "C:\\Users\\Maoli\\miniconda3\\envs\\525\\lib\\site-packages\\rpy2\\robjects\\packages.py:366: UserWarning: The symbol 'quartz' is not in this R namespace/package.\n",
      "  warnings.warn(\n"
     ]
    }
   ],
   "source": [
    "%load_ext rpy2.ipython"
   ]
  },
  {
   "cell_type": "code",
   "execution_count": 5,
   "id": "e00d1bd8-7e08-4127-a440-e9554571e747",
   "metadata": {},
   "outputs": [],
   "source": [
    "import pyarrow.dataset as ds\n",
    "import pyarrow as pa\n",
    "import pandas as pd\n",
    "import pyarrow \n",
    "from pyarrow import csv\n",
    "import rpy2_arrow.pyarrow_rarrow as pyra"
   ]
  },
  {
   "cell_type": "code",
   "execution_count": 6,
   "id": "769c42c2-e071-4e7b-9ae2-3ce02303c6af",
   "metadata": {},
   "outputs": [
    {
     "name": "stdout",
     "output_type": "stream",
     "text": [
      "CPU times: total: 7.12 s\n",
      "Wall time: 6.15 s\n"
     ]
    }
   ],
   "source": [
    "%%time\n",
    "rdf = pyra.converter.py2rpy(pa.Table.from_pandas(df))"
   ]
  },
  {
   "cell_type": "code",
   "execution_count": 7,
   "id": "1340a3dc-5225-48fb-8a58-e841157eca14",
   "metadata": {},
   "outputs": [
    {
     "name": "stdout",
     "output_type": "stream",
     "text": [
      "\u001b[38;5;246m# A tibble: 6 x 8\u001b[39m\n",
      "  time    lat_min lat_max lon_min lon_max `rain (mm/day)` model `__index_level~`\n",
      "  \u001b[3m\u001b[38;5;246m<chr>\u001b[39m\u001b[23m     \u001b[3m\u001b[38;5;246m<dbl>\u001b[39m\u001b[23m   \u001b[3m\u001b[38;5;246m<dbl>\u001b[39m\u001b[23m   \u001b[3m\u001b[38;5;246m<dbl>\u001b[39m\u001b[23m   \u001b[3m\u001b[38;5;246m<dbl>\u001b[39m\u001b[23m           \u001b[3m\u001b[38;5;246m<dbl>\u001b[39m\u001b[23m \u001b[3m\u001b[38;5;246m<chr>\u001b[39m\u001b[23m            \u001b[3m\u001b[38;5;246m<int>\u001b[39m\u001b[23m\n",
      "\u001b[38;5;250m1\u001b[39m 1889-0~   -\u001b[31m36\u001b[39m\u001b[31m.\u001b[39m\u001b[31m2\u001b[39m     -\u001b[31m35\u001b[39m    141.    142.        3.29\u001b[38;5;246me\u001b[39m\u001b[31m-13\u001b[39m ACCE~                0\n",
      "\u001b[38;5;250m2\u001b[39m 1889-0~   -\u001b[31m36\u001b[39m\u001b[31m.\u001b[39m\u001b[31m2\u001b[39m     -\u001b[31m35\u001b[39m    141.    142.        0   \u001b[38;5;246m \u001b[39m    ACCE~                1\n",
      "\u001b[38;5;250m3\u001b[39m 1889-0~   -\u001b[31m36\u001b[39m\u001b[31m.\u001b[39m\u001b[31m2\u001b[39m     -\u001b[31m35\u001b[39m    141.    142.        0   \u001b[38;5;246m \u001b[39m    ACCE~                2\n",
      "\u001b[38;5;250m4\u001b[39m 1889-0~   -\u001b[31m36\u001b[39m\u001b[31m.\u001b[39m\u001b[31m2\u001b[39m     -\u001b[31m35\u001b[39m    141.    142.        0   \u001b[38;5;246m \u001b[39m    ACCE~                3\n",
      "\u001b[38;5;250m5\u001b[39m 1889-0~   -\u001b[31m36\u001b[39m\u001b[31m.\u001b[39m\u001b[31m2\u001b[39m     -\u001b[31m35\u001b[39m    141.    142.        1.05\u001b[38;5;246me\u001b[39m\u001b[31m- 2\u001b[39m ACCE~                4\n",
      "\u001b[38;5;250m6\u001b[39m 1889-0~   -\u001b[31m36\u001b[39m\u001b[31m.\u001b[39m\u001b[31m2\u001b[39m     -\u001b[31m35\u001b[39m    141.    142.        3.29\u001b[38;5;246me\u001b[39m\u001b[31m- 2\u001b[39m ACCE~                5\n",
      "Time difference of 1.102861 secs\n",
      "CPU times: total: 906 ms\n",
      "Wall time: 1.12 s\n"
     ]
    }
   ],
   "source": [
    "%%time\n",
    "%%R -i rdf\n",
    "start_time <- Sys.time()\n",
    "suppressMessages(library(tidyverse))\n",
    "suppressMessages(library(stringr))\n",
    "suppressMessages(library(lubridate))\n",
    "print(rdf |> head() |> collect())\n",
    "end_time <- Sys.time()\n",
    "print(end_time - start_time)"
   ]
  },
  {
   "cell_type": "code",
   "execution_count": 11,
   "id": "d2632a01-f3d7-4472-8dc8-20b41165fec5",
   "metadata": {},
   "outputs": [
    {
     "name": "stdout",
     "output_type": "stream",
     "text": [
      "\u001b[38;5;246m# A tibble: 126 x 2\u001b[39m\n",
      "    year avg_rain\n",
      "   \u001b[3m\u001b[38;5;246m<int>\u001b[39m\u001b[23m    \u001b[3m\u001b[38;5;246m<dbl>\u001b[39m\u001b[23m\n",
      "\u001b[38;5;250m 1\u001b[39m  \u001b[4m1\u001b[24m889     1.98\n",
      "\u001b[38;5;250m 2\u001b[39m  \u001b[4m1\u001b[24m890     1.95\n",
      "\u001b[38;5;250m 3\u001b[39m  \u001b[4m1\u001b[24m891     1.87\n",
      "\u001b[38;5;250m 4\u001b[39m  \u001b[4m1\u001b[24m892     1.87\n",
      "\u001b[38;5;250m 5\u001b[39m  \u001b[4m1\u001b[24m893     2.08\n",
      "\u001b[38;5;250m 6\u001b[39m  \u001b[4m1\u001b[24m894     1.90\n",
      "\u001b[38;5;250m 7\u001b[39m  \u001b[4m1\u001b[24m895     1.85\n",
      "\u001b[38;5;250m 8\u001b[39m  \u001b[4m1\u001b[24m896     1.80\n",
      "\u001b[38;5;250m 9\u001b[39m  \u001b[4m1\u001b[24m897     1.87\n",
      "\u001b[38;5;250m10\u001b[39m  \u001b[4m1\u001b[24m898     1.78\n",
      "\u001b[38;5;246m# ... with 116 more rows\u001b[39m\n",
      "CPU times: total: 2.44 s\n",
      "Wall time: 2.45 s\n"
     ]
    }
   ],
   "source": [
    "%%time\n",
    "%%R\n",
    "names(rdf)[names(rdf) == \"rain (mm/day)\"] <- \"rain\"\n",
    "rdf_year <- rdf |> \n",
    "  mutate(year = as.integer(substr(time, 1, 4))) |> \n",
    "  group_by(year) |> \n",
    "  summarise(avg_rain = mean(rain, na.rm = TRUE))\n",
    "\n",
    "print(rdf_year |> collect())"
   ]
  },
  {
   "cell_type": "code",
   "execution_count": 12,
   "id": "f0ebbcdd-9b03-4621-9365-188c2a279331",
   "metadata": {},
   "outputs": [
    {
     "data": {
      "image/png": "[encoded data removed]"
     },
     "metadata": {},
     "output_type": "display_data"
    },
    {
     "name": "stdout",
     "output_type": "stream",
     "text": [
      "CPU times: total: 2.53 s\n",
      "Wall time: 2.58 s\n"
     ]
    }
   ],
   "source": [
    "%%time\n",
    "%%R\n",
    "\n",
    "plot <- rdf_year |> \n",
    "  ungroup() |> \n",
    "  as.data.frame(rdf_year) |> \n",
    "  ggplot(aes(x = year, y = avg_rain)) + \n",
    "  geom_line() + \n",
    "  labs(title = \"Average rain volume by year\",\n",
    "       x = \"Year\",\n",
    "       y = \"Average rain\")\n",
    "\n",
    "plot"
   ]
  },
  {
   "cell_type": "markdown",
   "id": "aa947b47-f05f-421b-967c-c735fac06d75",
   "metadata": {},
   "source": [
    "#### Comment on loading data in R\n",
    "\n",
    "As shown in the cells above, loading the data from pandas to R and display in notebook took under 10s. After that, doing regular data wrangling and plotting took another 5s. The overall processing time regarding a 6GiB data set was very fast.  \n",
    "We chose to use Arrow exchange over other methods. We wanted to load the dataframe from computer's memory directly instead of loading it from disk. As we have done some data loading by using Pandas, we can use Arrow exchange to load data from memory to R. Using Parquet or Feather requires creating a new file on hard disk and loading them into R takes time. However, if we want to work on the dataset again or transfer the data to another person, saving the processed data in Parquet form will be necessary."
   ]
  }
 ],
 "metadata": {
  "interpreter": {
   "hash": "8fa65542d2675a9ee41699cfd74d273b5314886d450732b4297d89e1ed7f55c8"
  },
  "kernelspec": {
   "display_name": "Python [conda env:525]",
   "language": "python",
   "name": "conda-env-525-py"
  },
  "language_info": {
   "codemirror_mode": {
    "name": "ipython",
    "version": 3
   },
   "file_extension": ".py",
   "mimetype": "text/x-python",
   "name": "python",
   "nbconvert_exporter": "python",
   "pygments_lexer": "ipython3",
   "version": "3.8.6"
  }
 },
 "nbformat": 4,
 "nbformat_minor": 5
}
