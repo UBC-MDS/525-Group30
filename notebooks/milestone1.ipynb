{
 "cells": [
  {
   "cell_type": "markdown",
   "id": "93df8bf1-d594-4662-be78-e235b747272b",
   "metadata": {},
   "source": [
    "## Imports"
   ]
  },
  {
   "cell_type": "code",
   "execution_count": 16,
   "id": "bceb9bf2-a32e-46c8-8bac-87d5063b85c8",
   "metadata": {},
   "outputs": [
    {
     "data": {
      "text/plain": [
       "DataTransformerRegistry.enable('data_server')"
      ]
     },
     "execution_count": 16,
     "metadata": {},
     "output_type": "execute_result"
    }
   ],
   "source": [
    "import requests\n",
    "import os\n",
    "\n",
    "from urllib.request import urlopen\n",
    "from zipfile import ZipFile\n",
    "\n",
    "from os import listdir\n",
    "from os.path import isfile, join\n",
    "\n",
    "import pandas as pd\n",
    "import glob\n",
    "\n",
    "import altair as alt\n",
    "alt.data_transformers.enable('data_server')"
   ]
  },
  {
   "cell_type": "markdown",
   "id": "00c13798-631b-46ea-9d9f-a2c84b93428c",
   "metadata": {},
   "source": [
    "## Download and Unzip Data"
   ]
  },
  {
   "cell_type": "code",
   "execution_count": 2,
   "id": "7a177d91-6a47-4578-a226-0a72b0d6087a",
   "metadata": {},
   "outputs": [],
   "source": [
    "def unzip(url, out_folder):\n",
    "    try:\n",
    "        tempzip = open(\"/tmp/tempfile.zip\", \"wb\")\n",
    "        tempzip.write(urlopen(url).read())\n",
    "        tempzip.close()\n",
    "        zf = ZipFile(\"/tmp/tempfile.zip\")\n",
    "        zf.extractall(path=out_folder)\n",
    "        zf.close()\n",
    "        print(f\"Unzipped data to: {os.getcwd()}/{out_folder}\")\n",
    "    except Exception as req:\n",
    "        raise UnzipFileError(req)\n",
    "\n",
    "def get_data(url, out_folder):\n",
    "    try:\n",
    "        request = requests.get(url)\n",
    "        if request.status_code == 200:\n",
    "            if not os.path.exists(os.getcwd() + \"/\" + out_folder):\n",
    "                os.makedirs(out_folder + \"/\")\n",
    "        \n",
    "    except Exception as req:\n",
    "        print(\"Invalid URL provided.\")\n",
    "        print(req)\n",
    "\n",
    "    return unzip(url, out_folder)"
   ]
  },
  {
   "cell_type": "code",
   "execution_count": 7,
   "id": "f4c868d5-e2d4-4569-a966-520db07283dd",
   "metadata": {},
   "outputs": [],
   "source": [
    "if not os.path.exists(os.getcwd() + \"/data/raw/__MACOSX\"):\n",
    "    pass\n",
    "\n",
    "else:\n",
    "    files = glob.glob(os.getcwd() + \"/data/raw/__MACOSX/*\")\n",
    "    for f in files:\n",
    "        os.remove(f)\n",
    "    os.rmdir(os.getcwd() + \"/data/raw/__MACOSX\")\n",
    "\n",
    "if len(os.listdir(os.getcwd() + \"/data/raw\")) > 0:\n",
    "    files = glob.glob(os.getcwd() + \"/data/raw/*\")\n",
    "    for f in files:\n",
    "        os.remove(f)\n",
    "else:\n",
    "    pass"
   ]
  },
  {
   "cell_type": "code",
   "execution_count": 8,
   "id": "0ad7fd8b-4018-45e1-a759-c4ff0a6161dc",
   "metadata": {},
   "outputs": [
    {
     "name": "stdout",
     "output_type": "stream",
     "text": [
      "Unzipped data to: /Users/jordancasoli/Documents/MDS/525/525-Group30/data/raw\n",
      "Unzipped data to: /Users/jordancasoli/Documents/MDS/525/525-Group30/data/raw\n",
      "Time Elapsed (to download and unzip the data): 2min 46s ± 0 ns per loop (mean ± std. dev. of 1 run, 1 loop each)\n"
     ]
    }
   ],
   "source": [
    "time_get_data = %timeit -q -o -r 1 get_data(url=\"https://figshare.com/ndownloader/files/26766812\", out_folder=\"data/raw\")\n",
    "print(f\"Time Elapsed (to download and unzip the data): {time_get_data}\")"
   ]
  },
  {
   "cell_type": "markdown",
   "id": "98ec0523-9bdf-4e80-b319-4a93338cc5bf",
   "metadata": {},
   "source": [
    "## Combining all .csv files into one DataFrame"
   ]
  },
  {
   "cell_type": "code",
   "execution_count": 9,
   "id": "1e55f0ca-f62e-4f58-81b5-f180e8cd3492",
   "metadata": {},
   "outputs": [
    {
     "name": "stdout",
     "output_type": "stream",
     "text": [
      "Time Elapsed (to combine the data): 2min 19s ± 0 ns per loop (mean ± std. dev. of 1 run, 1 loop each)\n",
      "\n",
      "<class 'pandas.core.frame.DataFrame'>\n",
      "Int64Index: 62513863 entries, 0 to 3541152\n",
      "Data columns (total 7 columns):\n",
      " #   Column         Dtype  \n",
      "---  ------         -----  \n",
      " 0   time           object \n",
      " 1   lat_min        float64\n",
      " 2   lat_max        float64\n",
      " 3   lon_min        float64\n",
      " 4   lon_max        float64\n",
      " 5   rain (mm/day)  float64\n",
      " 6   model          object \n",
      "dtypes: float64(5), object(2)\n",
      "memory usage: 3.7+ GB\n"
     ]
    }
   ],
   "source": [
    "path, dirs, files = next(os.walk(\"data/raw\"))\n",
    "file_count = len(files)\n",
    "\n",
    "def combine_data():\n",
    "    combined_df = pd.DataFrame()\n",
    "    for file in files:\n",
    "        temp = pd.DataFrame()\n",
    "        model_name = file.split('_')[0]\n",
    "        temp = pd.read_csv('data/raw/' + file)\n",
    "        temp['model'] = model_name\n",
    "        combined_df = pd.concat([combined_df, temp], axis=0)\n",
    "    return combined_df\n",
    "\n",
    "time_combine_data = %timeit -q -o -r 1 combine_data()\n",
    "print(f\"Time Elapsed (to combine the data): {time_combine_data}\\n\")\n",
    "\n",
    "combined_df = combine_data()\n",
    "\n",
    "combined_df.info()"
   ]
  },
  {
   "cell_type": "code",
   "execution_count": 10,
   "id": "34f74127-e807-4fa1-a544-79471a2ab978",
   "metadata": {},
   "outputs": [],
   "source": [
    "if len(os.listdir(os.getcwd() + \"/data/processed\")) > 0:\n",
    "    files = glob.glob(os.getcwd() + \"/data/processed/*\")\n",
    "    for f in files:\n",
    "        os.remove(f)"
   ]
  },
  {
   "cell_type": "code",
   "execution_count": 12,
   "id": "da67e162-9a1f-49f4-9d10-938f59cd2f74",
   "metadata": {},
   "outputs": [
    {
     "name": "stdout",
     "output_type": "stream",
     "text": [
      "CPU times: user 5min 53s, sys: 7.11 s, total: 6min\n",
      "Wall time: 6min 8s\n"
     ]
    }
   ],
   "source": [
    "%%time\n",
    "combined_df.to_csv('data/processed/combined_df.csv')"
   ]
  },
  {
   "cell_type": "code",
   "execution_count": 8,
   "id": "6dbea413-31e4-4d4a-92df-979a0dd15bda",
   "metadata": {},
   "outputs": [
    {
     "data": {
      "text/html": [
       "<div>\n",
       "<style scoped>\n",
       "    .dataframe tbody tr th:only-of-type {\n",
       "        vertical-align: middle;\n",
       "    }\n",
       "\n",
       "    .dataframe tbody tr th {\n",
       "        vertical-align: top;\n",
       "    }\n",
       "\n",
       "    .dataframe thead th {\n",
       "        text-align: right;\n",
       "    }\n",
       "</style>\n",
       "<table border=\"1\" class=\"dataframe\">\n",
       "  <thead>\n",
       "    <tr style=\"text-align: right;\">\n",
       "      <th></th>\n",
       "      <th>time</th>\n",
       "      <th>lat_min</th>\n",
       "      <th>lat_max</th>\n",
       "      <th>lon_min</th>\n",
       "      <th>lon_max</th>\n",
       "      <th>rain (mm/day)</th>\n",
       "      <th>model</th>\n",
       "    </tr>\n",
       "  </thead>\n",
       "  <tbody>\n",
       "    <tr>\n",
       "      <th>0</th>\n",
       "      <td>1889-01-01 12:00:00</td>\n",
       "      <td>-35.439867</td>\n",
       "      <td>-33.574619</td>\n",
       "      <td>141.5625</td>\n",
       "      <td>143.4375</td>\n",
       "      <td>4.244226e-13</td>\n",
       "      <td>MPI-ESM-1-2-HAM</td>\n",
       "    </tr>\n",
       "    <tr>\n",
       "      <th>1</th>\n",
       "      <td>1889-01-02 12:00:00</td>\n",
       "      <td>-35.439867</td>\n",
       "      <td>-33.574619</td>\n",
       "      <td>141.5625</td>\n",
       "      <td>143.4375</td>\n",
       "      <td>4.217326e-13</td>\n",
       "      <td>MPI-ESM-1-2-HAM</td>\n",
       "    </tr>\n",
       "    <tr>\n",
       "      <th>2</th>\n",
       "      <td>1889-01-03 12:00:00</td>\n",
       "      <td>-35.439867</td>\n",
       "      <td>-33.574619</td>\n",
       "      <td>141.5625</td>\n",
       "      <td>143.4375</td>\n",
       "      <td>4.498125e-13</td>\n",
       "      <td>MPI-ESM-1-2-HAM</td>\n",
       "    </tr>\n",
       "    <tr>\n",
       "      <th>3</th>\n",
       "      <td>1889-01-04 12:00:00</td>\n",
       "      <td>-35.439867</td>\n",
       "      <td>-33.574619</td>\n",
       "      <td>141.5625</td>\n",
       "      <td>143.4375</td>\n",
       "      <td>4.251282e-13</td>\n",
       "      <td>MPI-ESM-1-2-HAM</td>\n",
       "    </tr>\n",
       "    <tr>\n",
       "      <th>4</th>\n",
       "      <td>1889-01-05 12:00:00</td>\n",
       "      <td>-35.439867</td>\n",
       "      <td>-33.574619</td>\n",
       "      <td>141.5625</td>\n",
       "      <td>143.4375</td>\n",
       "      <td>4.270161e-13</td>\n",
       "      <td>MPI-ESM-1-2-HAM</td>\n",
       "    </tr>\n",
       "  </tbody>\n",
       "</table>\n",
       "</div>"
      ],
      "text/plain": [
       "                  time    lat_min    lat_max   lon_min   lon_max  \\\n",
       "0  1889-01-01 12:00:00 -35.439867 -33.574619  141.5625  143.4375   \n",
       "1  1889-01-02 12:00:00 -35.439867 -33.574619  141.5625  143.4375   \n",
       "2  1889-01-03 12:00:00 -35.439867 -33.574619  141.5625  143.4375   \n",
       "3  1889-01-04 12:00:00 -35.439867 -33.574619  141.5625  143.4375   \n",
       "4  1889-01-05 12:00:00 -35.439867 -33.574619  141.5625  143.4375   \n",
       "\n",
       "   rain (mm/day)            model  \n",
       "0   4.244226e-13  MPI-ESM-1-2-HAM  \n",
       "1   4.217326e-13  MPI-ESM-1-2-HAM  \n",
       "2   4.498125e-13  MPI-ESM-1-2-HAM  \n",
       "3   4.251282e-13  MPI-ESM-1-2-HAM  \n",
       "4   4.270161e-13  MPI-ESM-1-2-HAM  "
      ]
     },
     "execution_count": 8,
     "metadata": {},
     "output_type": "execute_result"
    }
   ],
   "source": [
    "combined_df.head()"
   ]
  },
  {
   "cell_type": "markdown",
   "id": "1d70034d",
   "metadata": {},
   "source": [
    "# Load the combined CSV to memory and perform a simple EDA"
   ]
  },
  {
   "cell_type": "code",
   "execution_count": 5,
   "id": "b877a3d6",
   "metadata": {},
   "outputs": [
    {
     "name": "stdout",
     "output_type": "stream",
     "text": [
      "MPI-ESM1-2-HR       5154240\n",
      "NorESM2-MM          3541230\n",
      "CMCC-CM2-SR5        3541230\n",
      "TaiESM1             3541230\n",
      "CMCC-ESM2           3541230\n",
      "CMCC-CM2-HR4        3541230\n",
      "SAM0-UNICON         3541153\n",
      "GFDL-CM4            3219300\n",
      "FGOALS-f3-L         3219300\n",
      "GFDL-ESM4           3219300\n",
      "MRI-ESM2-0          3037320\n",
      "EC-Earth3-Veg-LR    3037320\n",
      "BCC-CSM2-MR         3035340\n",
      "MIROC6              2070900\n",
      "ACCESS-CM2          1932840\n",
      "ACCESS-ESM1-5       1610700\n",
      "INM-CM5-0           1609650\n",
      "INM-CM4-8           1609650\n",
      "KIOST-ESM           1287720\n",
      "FGOALS-g3           1287720\n",
      "AWI-ESM-1-1-LR       966420\n",
      "MPI-ESM1-2-LR        966420\n",
      "NESM3                966420\n",
      "MPI-ESM-1-2-HAM      966420\n",
      "NorESM2-LM           919800\n",
      "BCC-ESM1             551880\n",
      "CanESM5              551880\n",
      "observed              46020\n",
      "Name: model, dtype: int64\n",
      "CPU times: user 54 s, sys: 17.6 s, total: 1min 11s\n",
      "Wall time: 1min 34s\n"
     ]
    }
   ],
   "source": [
    "%%time\n",
    "df = pd.read_csv(\"data/processed/combined_df.csv\", index_col=0)"
   ]
  },
  {
   "cell_type": "code",
   "execution_count": 6,
   "id": "2517b65c",
   "metadata": {},
   "outputs": [
    {
     "data": {
      "text/html": [
       "<div>\n",
       "<style scoped>\n",
       "    .dataframe tbody tr th:only-of-type {\n",
       "        vertical-align: middle;\n",
       "    }\n",
       "\n",
       "    .dataframe tbody tr th {\n",
       "        vertical-align: top;\n",
       "    }\n",
       "\n",
       "    .dataframe thead th {\n",
       "        text-align: right;\n",
       "    }\n",
       "</style>\n",
       "<table border=\"1\" class=\"dataframe\">\n",
       "  <thead>\n",
       "    <tr style=\"text-align: right;\">\n",
       "      <th></th>\n",
       "      <th>lat_min</th>\n",
       "      <th>lat_max</th>\n",
       "      <th>lon_min</th>\n",
       "      <th>lon_max</th>\n",
       "      <th>rain (mm/day)</th>\n",
       "    </tr>\n",
       "  </thead>\n",
       "  <tbody>\n",
       "    <tr>\n",
       "      <th>count</th>\n",
       "      <td>5.924854e+07</td>\n",
       "      <td>6.246784e+07</td>\n",
       "      <td>5.924854e+07</td>\n",
       "      <td>6.246784e+07</td>\n",
       "      <td>5.929456e+07</td>\n",
       "    </tr>\n",
       "    <tr>\n",
       "      <th>mean</th>\n",
       "      <td>-3.310482e+01</td>\n",
       "      <td>-3.197757e+01</td>\n",
       "      <td>1.469059e+02</td>\n",
       "      <td>1.482150e+02</td>\n",
       "      <td>1.901827e+00</td>\n",
       "    </tr>\n",
       "    <tr>\n",
       "      <th>std</th>\n",
       "      <td>1.963549e+00</td>\n",
       "      <td>1.992067e+00</td>\n",
       "      <td>3.793784e+00</td>\n",
       "      <td>3.809994e+00</td>\n",
       "      <td>5.588275e+00</td>\n",
       "    </tr>\n",
       "    <tr>\n",
       "      <th>min</th>\n",
       "      <td>-3.646739e+01</td>\n",
       "      <td>-3.600000e+01</td>\n",
       "      <td>1.406250e+02</td>\n",
       "      <td>1.412500e+02</td>\n",
       "      <td>-3.807373e-12</td>\n",
       "    </tr>\n",
       "    <tr>\n",
       "      <th>25%</th>\n",
       "      <td>-3.486911e+01</td>\n",
       "      <td>-3.366221e+01</td>\n",
       "      <td>1.434375e+02</td>\n",
       "      <td>1.450000e+02</td>\n",
       "      <td>3.876672e-06</td>\n",
       "    </tr>\n",
       "    <tr>\n",
       "      <th>50%</th>\n",
       "      <td>-3.300000e+01</td>\n",
       "      <td>-3.204188e+01</td>\n",
       "      <td>1.468750e+02</td>\n",
       "      <td>1.481250e+02</td>\n",
       "      <td>6.161705e-02</td>\n",
       "    </tr>\n",
       "    <tr>\n",
       "      <th>75%</th>\n",
       "      <td>-3.140170e+01</td>\n",
       "      <td>-3.015707e+01</td>\n",
       "      <td>1.501875e+02</td>\n",
       "      <td>1.513125e+02</td>\n",
       "      <td>1.021314e+00</td>\n",
       "    </tr>\n",
       "    <tr>\n",
       "      <th>max</th>\n",
       "      <td>-2.990000e+01</td>\n",
       "      <td>-2.790606e+01</td>\n",
       "      <td>1.537500e+02</td>\n",
       "      <td>1.556250e+02</td>\n",
       "      <td>4.329395e+02</td>\n",
       "    </tr>\n",
       "  </tbody>\n",
       "</table>\n",
       "</div>"
      ],
      "text/plain": [
       "            lat_min       lat_max       lon_min       lon_max  rain (mm/day)\n",
       "count  5.924854e+07  6.246784e+07  5.924854e+07  6.246784e+07   5.929456e+07\n",
       "mean  -3.310482e+01 -3.197757e+01  1.469059e+02  1.482150e+02   1.901827e+00\n",
       "std    1.963549e+00  1.992067e+00  3.793784e+00  3.809994e+00   5.588275e+00\n",
       "min   -3.646739e+01 -3.600000e+01  1.406250e+02  1.412500e+02  -3.807373e-12\n",
       "25%   -3.486911e+01 -3.366221e+01  1.434375e+02  1.450000e+02   3.876672e-06\n",
       "50%   -3.300000e+01 -3.204188e+01  1.468750e+02  1.481250e+02   6.161705e-02\n",
       "75%   -3.140170e+01 -3.015707e+01  1.501875e+02  1.513125e+02   1.021314e+00\n",
       "max   -2.990000e+01 -2.790606e+01  1.537500e+02  1.556250e+02   4.329395e+02"
      ]
     },
     "execution_count": 6,
     "metadata": {},
     "output_type": "execute_result"
    }
   ],
   "source": [
    "df.describe()"
   ]
  },
  {
   "cell_type": "code",
   "execution_count": 7,
   "id": "2043b3ad",
   "metadata": {},
   "outputs": [
    {
     "name": "stdout",
     "output_type": "stream",
     "text": [
      "<class 'pandas.core.frame.DataFrame'>\n",
      "Int64Index: 62513863 entries, 0 to 3541152\n",
      "Data columns (total 7 columns):\n",
      " #   Column         Dtype  \n",
      "---  ------         -----  \n",
      " 0   time           object \n",
      " 1   lat_min        float64\n",
      " 2   lat_max        float64\n",
      " 3   lon_min        float64\n",
      " 4   lon_max        float64\n",
      " 5   rain (mm/day)  float64\n",
      " 6   model          object \n",
      "dtypes: float64(5), object(2)\n",
      "memory usage: 3.7+ GB\n"
     ]
    }
   ],
   "source": [
    "df.info()"
   ]
  },
  {
   "cell_type": "markdown",
   "id": "bb37923b",
   "metadata": {},
   "source": [
    "Loading the whole dataset requires 3.7GB of memory! "
   ]
  },
  {
   "cell_type": "markdown",
   "id": "3304832e",
   "metadata": {},
   "source": [
    "#### Loading only the columns we need"
   ]
  },
  {
   "cell_type": "code",
   "execution_count": 9,
   "id": "8345839d",
   "metadata": {},
   "outputs": [
    {
     "name": "stdout",
     "output_type": "stream",
     "text": [
      "CPU times: user 39.1 s, sys: 8.2 s, total: 47.3 s\n",
      "Wall time: 55.7 s\n"
     ]
    }
   ],
   "source": [
    "%%time\n",
    "useful_cols = ['time','rain (mm/day)']\n",
    "df_columns = pd.read_csv(\"data/processed/combined_df.csv\",usecols=useful_cols)"
   ]
  },
  {
   "cell_type": "code",
   "execution_count": 10,
   "id": "5b4bfb27",
   "metadata": {},
   "outputs": [
    {
     "name": "stdout",
     "output_type": "stream",
     "text": [
      "<class 'pandas.core.frame.DataFrame'>\n",
      "RangeIndex: 62513863 entries, 0 to 62513862\n",
      "Data columns (total 2 columns):\n",
      " #   Column         Dtype  \n",
      "---  ------         -----  \n",
      " 0   time           object \n",
      " 1   rain (mm/day)  float64\n",
      "dtypes: float64(1), object(1)\n",
      "memory usage: 953.9+ MB\n"
     ]
    }
   ],
   "source": [
    "df_columns.info()"
   ]
  },
  {
   "cell_type": "markdown",
   "id": "23291a4c",
   "metadata": {},
   "source": [
    "By only loading the two columns I'm interested in we were able to reduce memory usage from 3.7GB to 950MB. "
   ]
  },
  {
   "cell_type": "markdown",
   "id": "238ecdf2",
   "metadata": {},
   "source": [
    "#### Changing the dtype "
   ]
  },
  {
   "cell_type": "markdown",
   "id": "ea0f95ef",
   "metadata": {},
   "source": [
    "It looks like we may be able to reduce the memory requirements by changing dtypes from float64 to float32. Let's see what happens..."
   ]
  },
  {
   "cell_type": "code",
   "execution_count": 11,
   "id": "450fbb2e",
   "metadata": {},
   "outputs": [
    {
     "name": "stdout",
     "output_type": "stream",
     "text": [
      "Memory usage with float64: 3000.67 MB\n",
      "Memory usage with float32: 1750.39 MB\n"
     ]
    }
   ],
   "source": [
    "print(f\"Memory usage with float64: {df[['lat_min','lat_max','lon_min','lon_max','rain (mm/day)']].memory_usage().sum() / 1e6:.2f} MB\")\n",
    "print(f\"Memory usage with float32: {df[['lat_min','lat_max','lon_min','lon_max','rain (mm/day)']].astype('float32', errors='ignore').memory_usage().sum() / 1e6:.2f} MB\")"
   ]
  },
  {
   "cell_type": "code",
   "execution_count": 12,
   "id": "2c1d99c5",
   "metadata": {},
   "outputs": [],
   "source": [
    "df_dtype = df.astype({'lat_min': 'float32',\n",
    "                      'lat_max': 'float32',\n",
    "                      'lon_min': 'float32',\n",
    "                      'lon_max': 'float32',\n",
    "                      'rain (mm/day)': 'float32'})"
   ]
  },
  {
   "cell_type": "code",
   "execution_count": 13,
   "id": "f3c90b6b",
   "metadata": {},
   "outputs": [
    {
     "name": "stdout",
     "output_type": "stream",
     "text": [
      "<class 'pandas.core.frame.DataFrame'>\n",
      "Int64Index: 62513863 entries, 0 to 3541152\n",
      "Data columns (total 7 columns):\n",
      " #   Column         Dtype  \n",
      "---  ------         -----  \n",
      " 0   time           object \n",
      " 1   lat_min        float32\n",
      " 2   lat_max        float32\n",
      " 3   lon_min        float32\n",
      " 4   lon_max        float32\n",
      " 5   rain (mm/day)  float32\n",
      " 6   model          object \n",
      "dtypes: float32(5), object(2)\n",
      "memory usage: 2.6+ GB\n"
     ]
    }
   ],
   "source": [
    "df_dtype.info()"
   ]
  },
  {
   "cell_type": "markdown",
   "id": "ff05985a",
   "metadata": {},
   "source": [
    "So by changing the dtype of a few columns we were in fact able to reduce the memory requirements from 3.7GB to around 2.6GB. "
   ]
  },
  {
   "cell_type": "markdown",
   "id": "5f450ad4",
   "metadata": {},
   "source": [
    "#### Simple EDA"
   ]
  },
  {
   "cell_type": "code",
   "execution_count": 23,
   "id": "ad9db934",
   "metadata": {},
   "outputs": [
    {
     "data": {
      "text/html": [
       "<div>\n",
       "<style scoped>\n",
       "    .dataframe tbody tr th:only-of-type {\n",
       "        vertical-align: middle;\n",
       "    }\n",
       "\n",
       "    .dataframe tbody tr th {\n",
       "        vertical-align: top;\n",
       "    }\n",
       "\n",
       "    .dataframe thead th {\n",
       "        text-align: right;\n",
       "    }\n",
       "</style>\n",
       "<table border=\"1\" class=\"dataframe\">\n",
       "  <thead>\n",
       "    <tr style=\"text-align: right;\">\n",
       "      <th></th>\n",
       "      <th>lat_min</th>\n",
       "      <th>lat_max</th>\n",
       "      <th>lon_min</th>\n",
       "      <th>lon_max</th>\n",
       "      <th>rain (mm/day)</th>\n",
       "    </tr>\n",
       "    <tr>\n",
       "      <th>time</th>\n",
       "      <th></th>\n",
       "      <th></th>\n",
       "      <th></th>\n",
       "      <th></th>\n",
       "      <th></th>\n",
       "    </tr>\n",
       "  </thead>\n",
       "  <tbody>\n",
       "    <tr>\n",
       "      <th>1889-01-31</th>\n",
       "      <td>-33.104778</td>\n",
       "      <td>-31.97756</td>\n",
       "      <td>146.905869</td>\n",
       "      <td>148.214966</td>\n",
       "      <td>2.379870</td>\n",
       "    </tr>\n",
       "    <tr>\n",
       "      <th>1889-02-28</th>\n",
       "      <td>-33.104778</td>\n",
       "      <td>-31.97756</td>\n",
       "      <td>146.905869</td>\n",
       "      <td>148.214966</td>\n",
       "      <td>2.552886</td>\n",
       "    </tr>\n",
       "    <tr>\n",
       "      <th>1889-03-31</th>\n",
       "      <td>-33.104778</td>\n",
       "      <td>-31.97756</td>\n",
       "      <td>146.905869</td>\n",
       "      <td>148.214966</td>\n",
       "      <td>1.703958</td>\n",
       "    </tr>\n",
       "    <tr>\n",
       "      <th>1889-04-30</th>\n",
       "      <td>-33.104778</td>\n",
       "      <td>-31.97756</td>\n",
       "      <td>146.905869</td>\n",
       "      <td>148.214966</td>\n",
       "      <td>1.577898</td>\n",
       "    </tr>\n",
       "    <tr>\n",
       "      <th>1889-05-31</th>\n",
       "      <td>-33.104778</td>\n",
       "      <td>-31.97756</td>\n",
       "      <td>146.905869</td>\n",
       "      <td>148.214966</td>\n",
       "      <td>1.970277</td>\n",
       "    </tr>\n",
       "    <tr>\n",
       "      <th>1889-06-30</th>\n",
       "      <td>-33.104778</td>\n",
       "      <td>-31.97756</td>\n",
       "      <td>146.905869</td>\n",
       "      <td>148.214966</td>\n",
       "      <td>1.774999</td>\n",
       "    </tr>\n",
       "    <tr>\n",
       "      <th>1889-07-31</th>\n",
       "      <td>-33.104778</td>\n",
       "      <td>-31.97756</td>\n",
       "      <td>146.905869</td>\n",
       "      <td>148.214966</td>\n",
       "      <td>1.769375</td>\n",
       "    </tr>\n",
       "    <tr>\n",
       "      <th>1889-08-31</th>\n",
       "      <td>-33.104778</td>\n",
       "      <td>-31.97756</td>\n",
       "      <td>146.905869</td>\n",
       "      <td>148.214966</td>\n",
       "      <td>1.764908</td>\n",
       "    </tr>\n",
       "    <tr>\n",
       "      <th>1889-09-30</th>\n",
       "      <td>-33.104778</td>\n",
       "      <td>-31.97756</td>\n",
       "      <td>146.905869</td>\n",
       "      <td>148.214966</td>\n",
       "      <td>1.879251</td>\n",
       "    </tr>\n",
       "    <tr>\n",
       "      <th>1889-10-31</th>\n",
       "      <td>-33.104778</td>\n",
       "      <td>-31.97756</td>\n",
       "      <td>146.905869</td>\n",
       "      <td>148.214966</td>\n",
       "      <td>1.645939</td>\n",
       "    </tr>\n",
       "    <tr>\n",
       "      <th>1889-11-30</th>\n",
       "      <td>-33.104778</td>\n",
       "      <td>-31.97756</td>\n",
       "      <td>146.905869</td>\n",
       "      <td>148.214966</td>\n",
       "      <td>2.249033</td>\n",
       "    </tr>\n",
       "    <tr>\n",
       "      <th>1889-12-31</th>\n",
       "      <td>-33.104778</td>\n",
       "      <td>-31.97756</td>\n",
       "      <td>146.905869</td>\n",
       "      <td>148.214966</td>\n",
       "      <td>2.515312</td>\n",
       "    </tr>\n",
       "  </tbody>\n",
       "</table>\n",
       "</div>"
      ],
      "text/plain": [
       "              lat_min   lat_max     lon_min     lon_max  rain (mm/day)\n",
       "time                                                                  \n",
       "1889-01-31 -33.104778 -31.97756  146.905869  148.214966       2.379870\n",
       "1889-02-28 -33.104778 -31.97756  146.905869  148.214966       2.552886\n",
       "1889-03-31 -33.104778 -31.97756  146.905869  148.214966       1.703958\n",
       "1889-04-30 -33.104778 -31.97756  146.905869  148.214966       1.577898\n",
       "1889-05-31 -33.104778 -31.97756  146.905869  148.214966       1.970277\n",
       "1889-06-30 -33.104778 -31.97756  146.905869  148.214966       1.774999\n",
       "1889-07-31 -33.104778 -31.97756  146.905869  148.214966       1.769375\n",
       "1889-08-31 -33.104778 -31.97756  146.905869  148.214966       1.764908\n",
       "1889-09-30 -33.104778 -31.97756  146.905869  148.214966       1.879251\n",
       "1889-10-31 -33.104778 -31.97756  146.905869  148.214966       1.645939\n",
       "1889-11-30 -33.104778 -31.97756  146.905869  148.214966       2.249033\n",
       "1889-12-31 -33.104778 -31.97756  146.905869  148.214966       2.515312"
      ]
     },
     "execution_count": 23,
     "metadata": {},
     "output_type": "execute_result"
    }
   ],
   "source": [
    "df_dtype['time']= pd.to_datetime(df_dtype['time'])\n",
    "rain_by_month_df = df_dtype.groupby(pd.Grouper(key='time', axis=0, \n",
    "                      freq='M')).mean().head(12)\n",
    "rain_by_month_df"
   ]
  },
  {
   "cell_type": "code",
   "execution_count": null,
   "id": "b7f39ac9",
   "metadata": {},
   "outputs": [],
   "source": []
  }
 ],
 "metadata": {
  "interpreter": {
   "hash": "8fa65542d2675a9ee41699cfd74d273b5314886d450732b4297d89e1ed7f55c8"
  },
  "kernelspec": {
   "display_name": "Python [conda env:525_2022]",
   "language": "python",
   "name": "python3"
  },
  "language_info": {
   "codemirror_mode": {
    "name": "ipython",
    "version": 3
   },
   "file_extension": ".py",
   "mimetype": "text/x-python",
   "name": "python",
   "nbconvert_exporter": "python",
   "pygments_lexer": "ipython3",
   "version": "3.8.6"
  }
 },
 "nbformat": 4,
 "nbformat_minor": 5
}
