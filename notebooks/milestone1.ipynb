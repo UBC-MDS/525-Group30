{
 "cells": [
  {
   "cell_type": "markdown",
   "id": "93df8bf1-d594-4662-be78-e235b747272b",
   "metadata": {},
   "source": [
    "## Imports"
   ]
  },
  {
   "cell_type": "code",
   "execution_count": 1,
   "id": "bceb9bf2-a32e-46c8-8bac-87d5063b85c8",
   "metadata": {},
   "outputs": [],
   "source": [
    "import requests\n",
    "import os\n",
    "\n",
    "from urllib.request import urlopen\n",
    "from zipfile import ZipFile\n",
    "\n",
    "from os import listdir\n",
    "from os.path import isfile, join\n",
    "\n",
    "import pandas as pd\n",
    "import glob"
   ]
  },
  {
   "cell_type": "markdown",
   "id": "00c13798-631b-46ea-9d9f-a2c84b93428c",
   "metadata": {},
   "source": [
    "## Download and Unzip Data"
   ]
  },
  {
   "cell_type": "code",
   "execution_count": 2,
   "id": "7a177d91-6a47-4578-a226-0a72b0d6087a",
   "metadata": {},
   "outputs": [],
   "source": [
    "def unzip(url, out_folder):\n",
    "    try:\n",
    "        tempzip = open(\"/tmp/tempfile.zip\", \"wb\")\n",
    "        tempzip.write(urlopen(url).read())\n",
    "        tempzip.close()\n",
    "        zf = ZipFile(\"/tmp/tempfile.zip\")\n",
    "        zf.extractall(path=out_folder)\n",
    "        zf.close()\n",
    "        print(f\"Unzipped data to: {os.getcwd()}/{out_folder}\")\n",
    "    except Exception as req:\n",
    "        raise UnzipFileError(req)\n",
    "\n",
    "def get_data(url, out_folder):\n",
    "    try:\n",
    "        request = requests.get(url)\n",
    "        if request.status_code == 200:\n",
    "            if not os.path.exists(os.getcwd() + \"/\" + out_folder):\n",
    "                os.makedirs(out_folder + \"/\")\n",
    "        \n",
    "    except Exception as req:\n",
    "        print(\"Invalid URL provided.\")\n",
    "        print(req)\n",
    "\n",
    "    return unzip(url, out_folder)"
   ]
  },
  {
   "cell_type": "code",
   "execution_count": 3,
   "id": "f4c868d5-e2d4-4569-a966-520db07283dd",
   "metadata": {},
   "outputs": [],
   "source": [
    "if not os.path.exists(os.getcwd() + \"/data/raw/__MACOSX\"):\n",
    "    pass\n",
    "\n",
    "else:\n",
    "    files = glob.glob(os.getcwd() + \"/data/raw/__MACOSX/*\")\n",
    "    for f in files:\n",
    "        os.remove(f)\n",
    "    os.rmdir(os.getcwd() + \"/data/raw/__MACOSX\")\n",
    "\n",
    "if len(os.listdir(os.getcwd() + \"/data/raw\")) > 0:\n",
    "    files = glob.glob(os.getcwd() + \"/data/raw/*\")\n",
    "    for f in files:\n",
    "        os.remove(f)\n",
    "else:\n",
    "    pass"
   ]
  },
  {
   "cell_type": "code",
   "execution_count": 4,
   "id": "0ad7fd8b-4018-45e1-a759-c4ff0a6161dc",
   "metadata": {},
   "outputs": [
    {
     "name": "stdout",
     "output_type": "stream",
     "text": [
      "Unzipped data to: /Users/vadim/block6/525/525-Group30/notebooks/data/raw\n",
      "Unzipped data to: /Users/vadim/block6/525/525-Group30/notebooks/data/raw\n",
      "Time Elapsed (to download and unzip the data): 7min 44s ± 0 ns per loop (mean ± std. dev. of 1 run, 1 loop each)\n"
     ]
    }
   ],
   "source": [
    "time_get_data = %timeit -q -o -r 1 get_data(url=\"https://figshare.com/ndownloader/files/26766812\", out_folder=\"data/raw\")\n",
    "print(f\"Time Elapsed (to download and unzip the data): {time_get_data}\")"
   ]
  },
  {
   "cell_type": "markdown",
   "id": "98ec0523-9bdf-4e80-b319-4a93338cc5bf",
   "metadata": {},
   "source": [
    "## Combining all .csv files into one DataFrame"
   ]
  },
  {
   "cell_type": "code",
   "execution_count": 5,
   "id": "1e55f0ca-f62e-4f58-81b5-f180e8cd3492",
   "metadata": {},
   "outputs": [
    {
     "name": "stdout",
     "output_type": "stream",
     "text": [
      "Time Elapsed (to combine the data): 1min 37s ± 0 ns per loop (mean ± std. dev. of 1 run, 1 loop each)\n",
      "\n",
      "<class 'pandas.core.frame.DataFrame'>\n",
      "Int64Index: 62513863 entries, 0 to 3541152\n",
      "Data columns (total 7 columns):\n",
      " #   Column         Dtype  \n",
      "---  ------         -----  \n",
      " 0   time           object \n",
      " 1   lat_min        float64\n",
      " 2   lat_max        float64\n",
      " 3   lon_min        float64\n",
      " 4   lon_max        float64\n",
      " 5   rain (mm/day)  float64\n",
      " 6   model          object \n",
      "dtypes: float64(5), object(2)\n",
      "memory usage: 3.7+ GB\n"
     ]
    }
   ],
   "source": [
    "path, dirs, files = next(os.walk(\"data/raw\"))\n",
    "file_count = len(files)\n",
    "\n",
    "def combine_data():\n",
    "    combined_df = pd.DataFrame()\n",
    "    for file in files:\n",
    "        temp = pd.DataFrame()\n",
    "        model_name = file.split('_')[0]\n",
    "        temp = pd.read_csv('data/raw/' + file)\n",
    "        temp['model'] = model_name\n",
    "        combined_df = pd.concat([combined_df, temp], axis=0)\n",
    "    return combined_df\n",
    "\n",
    "time_combine_data = %timeit -q -o -r 1 combine_data()\n",
    "print(f\"Time Elapsed (to combine the data): {time_combine_data}\\n\")\n",
    "\n",
    "combined_df = combine_data()\n",
    "\n",
    "combined_df.info()"
   ]
  },
  {
   "cell_type": "code",
   "execution_count": 6,
   "id": "34f74127-e807-4fa1-a544-79471a2ab978",
   "metadata": {},
   "outputs": [],
   "source": [
    "if len(os.listdir(os.getcwd() + \"/data/processed\")) > 0:\n",
    "    files = glob.glob(os.getcwd() + \"/data/processed/*\")\n",
    "    for f in files:\n",
    "        os.remove(f)"
   ]
  },
  {
   "cell_type": "code",
   "execution_count": 7,
   "id": "da67e162-9a1f-49f4-9d10-938f59cd2f74",
   "metadata": {},
   "outputs": [],
   "source": [
    "combined_df.to_csv('data/processed/combined_df.csv')"
   ]
  },
  {
   "cell_type": "code",
   "execution_count": 8,
   "id": "6dbea413-31e4-4d4a-92df-979a0dd15bda",
   "metadata": {},
   "outputs": [
    {
     "data": {
      "text/html": [
       "<div>\n",
       "<style scoped>\n",
       "    .dataframe tbody tr th:only-of-type {\n",
       "        vertical-align: middle;\n",
       "    }\n",
       "\n",
       "    .dataframe tbody tr th {\n",
       "        vertical-align: top;\n",
       "    }\n",
       "\n",
       "    .dataframe thead th {\n",
       "        text-align: right;\n",
       "    }\n",
       "</style>\n",
       "<table border=\"1\" class=\"dataframe\">\n",
       "  <thead>\n",
       "    <tr style=\"text-align: right;\">\n",
       "      <th></th>\n",
       "      <th>time</th>\n",
       "      <th>lat_min</th>\n",
       "      <th>lat_max</th>\n",
       "      <th>lon_min</th>\n",
       "      <th>lon_max</th>\n",
       "      <th>rain (mm/day)</th>\n",
       "      <th>model</th>\n",
       "    </tr>\n",
       "  </thead>\n",
       "  <tbody>\n",
       "    <tr>\n",
       "      <th>0</th>\n",
       "      <td>1889-01-01 12:00:00</td>\n",
       "      <td>-35.439867</td>\n",
       "      <td>-33.574619</td>\n",
       "      <td>141.5625</td>\n",
       "      <td>143.4375</td>\n",
       "      <td>4.244226e-13</td>\n",
       "      <td>MPI-ESM-1-2-HAM</td>\n",
       "    </tr>\n",
       "    <tr>\n",
       "      <th>1</th>\n",
       "      <td>1889-01-02 12:00:00</td>\n",
       "      <td>-35.439867</td>\n",
       "      <td>-33.574619</td>\n",
       "      <td>141.5625</td>\n",
       "      <td>143.4375</td>\n",
       "      <td>4.217326e-13</td>\n",
       "      <td>MPI-ESM-1-2-HAM</td>\n",
       "    </tr>\n",
       "    <tr>\n",
       "      <th>2</th>\n",
       "      <td>1889-01-03 12:00:00</td>\n",
       "      <td>-35.439867</td>\n",
       "      <td>-33.574619</td>\n",
       "      <td>141.5625</td>\n",
       "      <td>143.4375</td>\n",
       "      <td>4.498125e-13</td>\n",
       "      <td>MPI-ESM-1-2-HAM</td>\n",
       "    </tr>\n",
       "    <tr>\n",
       "      <th>3</th>\n",
       "      <td>1889-01-04 12:00:00</td>\n",
       "      <td>-35.439867</td>\n",
       "      <td>-33.574619</td>\n",
       "      <td>141.5625</td>\n",
       "      <td>143.4375</td>\n",
       "      <td>4.251282e-13</td>\n",
       "      <td>MPI-ESM-1-2-HAM</td>\n",
       "    </tr>\n",
       "    <tr>\n",
       "      <th>4</th>\n",
       "      <td>1889-01-05 12:00:00</td>\n",
       "      <td>-35.439867</td>\n",
       "      <td>-33.574619</td>\n",
       "      <td>141.5625</td>\n",
       "      <td>143.4375</td>\n",
       "      <td>4.270161e-13</td>\n",
       "      <td>MPI-ESM-1-2-HAM</td>\n",
       "    </tr>\n",
       "  </tbody>\n",
       "</table>\n",
       "</div>"
      ],
      "text/plain": [
       "                  time    lat_min    lat_max   lon_min   lon_max  \\\n",
       "0  1889-01-01 12:00:00 -35.439867 -33.574619  141.5625  143.4375   \n",
       "1  1889-01-02 12:00:00 -35.439867 -33.574619  141.5625  143.4375   \n",
       "2  1889-01-03 12:00:00 -35.439867 -33.574619  141.5625  143.4375   \n",
       "3  1889-01-04 12:00:00 -35.439867 -33.574619  141.5625  143.4375   \n",
       "4  1889-01-05 12:00:00 -35.439867 -33.574619  141.5625  143.4375   \n",
       "\n",
       "   rain (mm/day)            model  \n",
       "0   4.244226e-13  MPI-ESM-1-2-HAM  \n",
       "1   4.217326e-13  MPI-ESM-1-2-HAM  \n",
       "2   4.498125e-13  MPI-ESM-1-2-HAM  \n",
       "3   4.251282e-13  MPI-ESM-1-2-HAM  \n",
       "4   4.270161e-13  MPI-ESM-1-2-HAM  "
      ]
     },
     "execution_count": 8,
     "metadata": {},
     "output_type": "execute_result"
    }
   ],
   "source": [
    "combined_df.head()"
   ]
  }
 ],
 "metadata": {
  "kernelspec": {
   "display_name": "Python [conda env:525_2022]",
   "language": "python",
   "name": "conda-env-525_2022-py"
  },
  "language_info": {
   "codemirror_mode": {
    "name": "ipython",
    "version": 3
   },
   "file_extension": ".py",
   "mimetype": "text/x-python",
   "name": "python",
   "nbconvert_exporter": "python",
   "pygments_lexer": "ipython3",
   "version": "3.8.6"
  }
 },
 "nbformat": 4,
 "nbformat_minor": 5
}
